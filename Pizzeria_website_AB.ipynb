{
 "cells": [
  {
   "cell_type": "code",
   "execution_count": 2,
   "id": "a3604b27",
   "metadata": {},
   "outputs": [],
   "source": [
    "import numpy as np\n",
    "import matplotlib.pyplot as plt\n",
    "import scipy.stats as stats\n",
    "from scipy.stats import norm, ttest_ind\n",
    "import os\n",
    "from datetime import datetime, timedelta\n",
    "import pandas as pd\n",
    "import seaborn as sns"
   ]
  },
  {
   "cell_type": "code",
   "execution_count": 3,
   "id": "49b6a9a8",
   "metadata": {},
   "outputs": [],
   "source": [
    "URL_BASE = 'https://raw.githubusercontent.com/ab-courses/simulator-ab-datasets/main/2022-04-01/'\n",
    "def read_database(file_name):\n",
    "    return pd.read_csv(os.path.join(URL_BASE,file_name))"
   ]
  },
  {
   "cell_type": "code",
   "execution_count": 4,
   "id": "181fa3c3",
   "metadata": {},
   "outputs": [],
   "source": [
    "df_sales=read_database('2022-04-01T12_df_sales.csv')\n",
    "df_sales['date']=pd.to_datetime(df_sales['date'])\n",
    "df_users=read_database('experiment_users.csv')"
   ]
  },
  {
   "cell_type": "markdown",
   "id": "b399f794",
   "metadata": {},
   "source": [
    "df_sales - information about purchases, one row - one order. Attributes:\n",
    "- sale_id - purchase identifier;\n",
    "- date - date of purchase;\n",
    "- count_pizza - number of pizzas in the order;\n",
    "- count_drink - number of drinks in the order;\n",
    "- price - price of the order;\n",
    "- user_id - user identifier;\n",
    "\n",
    "df_users - list of users of the experiment broken down into groups"
   ]
  },
  {
   "cell_type": "code",
   "execution_count": 5,
   "id": "76095bf1",
   "metadata": {},
   "outputs": [
    {
     "data": {
      "text/html": [
       "<div>\n",
       "<style scoped>\n",
       "    .dataframe tbody tr th:only-of-type {\n",
       "        vertical-align: middle;\n",
       "    }\n",
       "\n",
       "    .dataframe tbody tr th {\n",
       "        vertical-align: top;\n",
       "    }\n",
       "\n",
       "    .dataframe thead th {\n",
       "        text-align: right;\n",
       "    }\n",
       "</style>\n",
       "<table border=\"1\" class=\"dataframe\">\n",
       "  <thead>\n",
       "    <tr style=\"text-align: right;\">\n",
       "      <th></th>\n",
       "      <th>user_id</th>\n",
       "      <th>pilot</th>\n",
       "    </tr>\n",
       "  </thead>\n",
       "  <tbody>\n",
       "    <tr>\n",
       "      <th>0</th>\n",
       "      <td>0ffc65</td>\n",
       "      <td>0</td>\n",
       "    </tr>\n",
       "    <tr>\n",
       "      <th>1</th>\n",
       "      <td>b962b9</td>\n",
       "      <td>0</td>\n",
       "    </tr>\n",
       "    <tr>\n",
       "      <th>2</th>\n",
       "      <td>7ea63f</td>\n",
       "      <td>0</td>\n",
       "    </tr>\n",
       "    <tr>\n",
       "      <th>3</th>\n",
       "      <td>7f9a61</td>\n",
       "      <td>0</td>\n",
       "    </tr>\n",
       "    <tr>\n",
       "      <th>4</th>\n",
       "      <td>459e55</td>\n",
       "      <td>0</td>\n",
       "    </tr>\n",
       "  </tbody>\n",
       "</table>\n",
       "</div>"
      ],
      "text/plain": [
       "  user_id  pilot\n",
       "0  0ffc65      0\n",
       "1  b962b9      0\n",
       "2  7ea63f      0\n",
       "3  7f9a61      0\n",
       "4  459e55      0"
      ]
     },
     "execution_count": 5,
     "metadata": {},
     "output_type": "execute_result"
    }
   ],
   "source": [
    "df_users.head()"
   ]
  },
  {
   "cell_type": "code",
   "execution_count": 6,
   "id": "1e163919",
   "metadata": {},
   "outputs": [
    {
     "data": {
      "text/plain": [
       "0    11769\n",
       "1    11564\n",
       "Name: pilot, dtype: int64"
      ]
     },
     "execution_count": 6,
     "metadata": {},
     "output_type": "execute_result"
    }
   ],
   "source": [
    "df_users['pilot'].value_counts()"
   ]
  },
  {
   "cell_type": "code",
   "execution_count": 7,
   "id": "151b0bd8",
   "metadata": {},
   "outputs": [
    {
     "data": {
      "text/html": [
       "<div>\n",
       "<style scoped>\n",
       "    .dataframe tbody tr th:only-of-type {\n",
       "        vertical-align: middle;\n",
       "    }\n",
       "\n",
       "    .dataframe tbody tr th {\n",
       "        vertical-align: top;\n",
       "    }\n",
       "\n",
       "    .dataframe thead th {\n",
       "        text-align: right;\n",
       "    }\n",
       "</style>\n",
       "<table border=\"1\" class=\"dataframe\">\n",
       "  <thead>\n",
       "    <tr style=\"text-align: right;\">\n",
       "      <th></th>\n",
       "      <th>sale_id</th>\n",
       "      <th>date</th>\n",
       "      <th>count_pizza</th>\n",
       "      <th>count_drink</th>\n",
       "      <th>price</th>\n",
       "      <th>user_id</th>\n",
       "    </tr>\n",
       "  </thead>\n",
       "  <tbody>\n",
       "    <tr>\n",
       "      <th>0</th>\n",
       "      <td>1000001</td>\n",
       "      <td>2022-02-04 10:00:24</td>\n",
       "      <td>1</td>\n",
       "      <td>0</td>\n",
       "      <td>720</td>\n",
       "      <td>1c1543</td>\n",
       "    </tr>\n",
       "    <tr>\n",
       "      <th>1</th>\n",
       "      <td>1000002</td>\n",
       "      <td>2022-02-04 10:02:28</td>\n",
       "      <td>1</td>\n",
       "      <td>1</td>\n",
       "      <td>930</td>\n",
       "      <td>a9a6e8</td>\n",
       "    </tr>\n",
       "    <tr>\n",
       "      <th>2</th>\n",
       "      <td>1000003</td>\n",
       "      <td>2022-02-04 10:02:35</td>\n",
       "      <td>3</td>\n",
       "      <td>1</td>\n",
       "      <td>1980</td>\n",
       "      <td>23420a</td>\n",
       "    </tr>\n",
       "    <tr>\n",
       "      <th>3</th>\n",
       "      <td>1000004</td>\n",
       "      <td>2022-02-04 10:03:06</td>\n",
       "      <td>1</td>\n",
       "      <td>1</td>\n",
       "      <td>750</td>\n",
       "      <td>3e8ed5</td>\n",
       "    </tr>\n",
       "    <tr>\n",
       "      <th>4</th>\n",
       "      <td>1000005</td>\n",
       "      <td>2022-02-04 10:03:23</td>\n",
       "      <td>1</td>\n",
       "      <td>1</td>\n",
       "      <td>870</td>\n",
       "      <td>cbc468</td>\n",
       "    </tr>\n",
       "  </tbody>\n",
       "</table>\n",
       "</div>"
      ],
      "text/plain": [
       "   sale_id                date  count_pizza  count_drink  price user_id\n",
       "0  1000001 2022-02-04 10:00:24            1            0    720  1c1543\n",
       "1  1000002 2022-02-04 10:02:28            1            1    930  a9a6e8\n",
       "2  1000003 2022-02-04 10:02:35            3            1   1980  23420a\n",
       "3  1000004 2022-02-04 10:03:06            1            1    750  3e8ed5\n",
       "4  1000005 2022-02-04 10:03:23            1            1    870  cbc468"
      ]
     },
     "execution_count": 7,
     "metadata": {},
     "output_type": "execute_result"
    }
   ],
   "source": [
    "df_sales.head()"
   ]
  },
  {
   "cell_type": "code",
   "execution_count": 8,
   "id": "9f8957be",
   "metadata": {},
   "outputs": [],
   "source": [
    "# Calculate a metric\n",
    "begin_daie=datetime(2022,3,23)\n",
    "end_date=datetime(2022,3,30)\n",
    "df_metrics=(\n",
    "    df_sales[(df_sales['date']>=begin_daie)&(df_sales['date']<=end_date)].groupby('user_id')[['price']].sum().reset_index()\n",
    ")"
   ]
  },
  {
   "cell_type": "code",
   "execution_count": 9,
   "id": "d91db096",
   "metadata": {},
   "outputs": [
    {
     "data": {
      "text/html": [
       "<div>\n",
       "<style scoped>\n",
       "    .dataframe tbody tr th:only-of-type {\n",
       "        vertical-align: middle;\n",
       "    }\n",
       "\n",
       "    .dataframe tbody tr th {\n",
       "        vertical-align: top;\n",
       "    }\n",
       "\n",
       "    .dataframe thead th {\n",
       "        text-align: right;\n",
       "    }\n",
       "</style>\n",
       "<table border=\"1\" class=\"dataframe\">\n",
       "  <thead>\n",
       "    <tr style=\"text-align: right;\">\n",
       "      <th></th>\n",
       "      <th>user_id</th>\n",
       "      <th>price</th>\n",
       "    </tr>\n",
       "  </thead>\n",
       "  <tbody>\n",
       "    <tr>\n",
       "      <th>0</th>\n",
       "      <td>0000d4</td>\n",
       "      <td>720</td>\n",
       "    </tr>\n",
       "    <tr>\n",
       "      <th>1</th>\n",
       "      <td>0000de</td>\n",
       "      <td>660</td>\n",
       "    </tr>\n",
       "    <tr>\n",
       "      <th>2</th>\n",
       "      <td>0000e4</td>\n",
       "      <td>840</td>\n",
       "    </tr>\n",
       "    <tr>\n",
       "      <th>3</th>\n",
       "      <td>0001e2</td>\n",
       "      <td>2430</td>\n",
       "    </tr>\n",
       "    <tr>\n",
       "      <th>4</th>\n",
       "      <td>0001ff</td>\n",
       "      <td>720</td>\n",
       "    </tr>\n",
       "  </tbody>\n",
       "</table>\n",
       "</div>"
      ],
      "text/plain": [
       "  user_id  price\n",
       "0  0000d4    720\n",
       "1  0000de    660\n",
       "2  0000e4    840\n",
       "3  0001e2   2430\n",
       "4  0001ff    720"
      ]
     },
     "execution_count": 9,
     "metadata": {},
     "output_type": "execute_result"
    }
   ],
   "source": [
    "df_metrics.head()"
   ]
  },
  {
   "cell_type": "code",
   "execution_count": 10,
   "id": "6913b6f4",
   "metadata": {},
   "outputs": [
    {
     "data": {
      "text/html": [
       "<div>\n",
       "<style scoped>\n",
       "    .dataframe tbody tr th:only-of-type {\n",
       "        vertical-align: middle;\n",
       "    }\n",
       "\n",
       "    .dataframe tbody tr th {\n",
       "        vertical-align: top;\n",
       "    }\n",
       "\n",
       "    .dataframe thead th {\n",
       "        text-align: right;\n",
       "    }\n",
       "</style>\n",
       "<table border=\"1\" class=\"dataframe\">\n",
       "  <thead>\n",
       "    <tr style=\"text-align: right;\">\n",
       "      <th></th>\n",
       "      <th>user_id</th>\n",
       "      <th>pilot</th>\n",
       "      <th>price</th>\n",
       "    </tr>\n",
       "  </thead>\n",
       "  <tbody>\n",
       "    <tr>\n",
       "      <th>0</th>\n",
       "      <td>0ffc65</td>\n",
       "      <td>0</td>\n",
       "      <td>0.0</td>\n",
       "    </tr>\n",
       "    <tr>\n",
       "      <th>1</th>\n",
       "      <td>b962b9</td>\n",
       "      <td>0</td>\n",
       "      <td>840.0</td>\n",
       "    </tr>\n",
       "    <tr>\n",
       "      <th>2</th>\n",
       "      <td>7ea63f</td>\n",
       "      <td>0</td>\n",
       "      <td>0.0</td>\n",
       "    </tr>\n",
       "    <tr>\n",
       "      <th>3</th>\n",
       "      <td>7f9a61</td>\n",
       "      <td>0</td>\n",
       "      <td>0.0</td>\n",
       "    </tr>\n",
       "    <tr>\n",
       "      <th>4</th>\n",
       "      <td>459e55</td>\n",
       "      <td>0</td>\n",
       "      <td>0.0</td>\n",
       "    </tr>\n",
       "  </tbody>\n",
       "</table>\n",
       "</div>"
      ],
      "text/plain": [
       "  user_id  pilot  price\n",
       "0  0ffc65      0    0.0\n",
       "1  b962b9      0  840.0\n",
       "2  7ea63f      0    0.0\n",
       "3  7f9a61      0    0.0\n",
       "4  459e55      0    0.0"
      ]
     },
     "execution_count": 10,
     "metadata": {},
     "output_type": "execute_result"
    }
   ],
   "source": [
    "df_users_metrics=pd.merge(df_users,df_metrics,how='left',on='user_id').fillna(0)\n",
    "df_users_metrics.head()\n"
   ]
  },
  {
   "cell_type": "code",
   "execution_count": 11,
   "id": "d7a54d06",
   "metadata": {},
   "outputs": [
    {
     "data": {
      "text/plain": [
       "Ttest_indResult(statistic=-7.800743549967138, pvalue=6.411291718224787e-15)"
      ]
     },
     "execution_count": 11,
     "metadata": {},
     "output_type": "execute_result"
    }
   ],
   "source": [
    "data_control=df_users_metrics[df_users_metrics['pilot']==0]['price']\n",
    "data_pilot=df_users_metrics[df_users_metrics['pilot']==1]['price']\n",
    "stats.ttest_ind(data_control,data_pilot)"
   ]
  },
  {
   "cell_type": "markdown",
   "id": "740debde",
   "metadata": {},
   "source": [
    "**Conclusion:** \n",
    "- At the significance level of 0.05, the hypothesis of equality of mean is rejected\n",
    "- The change is statistically significant"
   ]
  },
  {
   "cell_type": "code",
   "execution_count": 12,
   "id": "16d4349f",
   "metadata": {},
   "outputs": [
    {
     "data": {
      "text/plain": [
       "Ttest_indResult(statistic=-1.2837567415000515, pvalue=0.19923983306424942)"
      ]
     },
     "execution_count": 12,
     "metadata": {},
     "output_type": "execute_result"
    }
   ],
   "source": [
    "# Calculate a metric for a period\n",
    "begin_daie=datetime(2022,3,16)\n",
    "end_date=datetime(2022,3,23)\n",
    "df_metrics=(\n",
    "    df_sales[(df_sales['date']>=begin_daie)&(df_sales['date']<=end_date)].groupby('user_id')[['price']].sum().reset_index()\n",
    ")\n",
    "df_users_metrics=pd.merge(df_users,df_metrics,how='left',on='user_id').fillna(0)\n",
    "data_control=df_users_metrics[df_users_metrics['pilot']==0]['price']\n",
    "data_pilot=df_users_metrics[df_users_metrics['pilot']==1]['price']\n",
    "stats.ttest_ind(data_control,data_pilot)"
   ]
  },
  {
   "cell_type": "markdown",
   "id": "22d90d9c",
   "metadata": {},
   "source": [
    "**Conclusion:** \n",
    "- At the significance level of 0.05, the hypothesis of equality of mean is accepted\n",
    "- The change is not statistically significant"
   ]
  },
  {
   "cell_type": "code",
   "execution_count": 13,
   "metadata": {},
   "outputs": [
    {
     "name": "stdout",
     "output_type": "stream",
     "text": [
      "average time between purchases -  17 days\n"
     ]
    }
   ],
   "source": [
    "#Estimate the average time between purchases for customers with 2 or more purchases \n",
    "\n",
    "df_2=df_sales.groupby('user_id')[['date']].agg(['count','min','max'])\n",
    "df_2.columns = [x[1] for x in df_2.columns] # fix column headings \n",
    "df_2=df_2[df_2['count']>=2]\n",
    "df_2['delta']=(df_2['max']-df_2['min']).dt.total_seconds()\n",
    "sum_delta=df_2['delta'].sum() # total time (in sec) between purchases\n",
    "count_periods = df_2['count'].sum() - len(df_2) # total number periods between purchases\n",
    "result=sum_delta/count_periods/3600/24\n",
    "\n",
    "print(\"average time between purchases - \", int(round(result)), \"days\")\n",
    "\n",
    "\n",
    "\n"
   ]
  },
  {
   "cell_type": "code",
   "execution_count": 14,
   "id": "b83fd671",
   "metadata": {},
   "outputs": [],
   "source": [
    "# Function to get p-value \n",
    "\n",
    "def get_ttest_pvalue(metrics_a_group,metrics_b_group):\n",
    "   return print(\"pvalue =\",(stats.ttest_ind(metrics_a_group,metrics_b_group).pvalue))\n",
    "\n",
    "    "
   ]
  },
  {
   "cell_type": "code",
   "execution_count": 15,
   "id": "cae869b6",
   "metadata": {},
   "outputs": [],
   "source": [
    "def get_ttest_pvalue(metrics_a_group, metrics_b_group):\n",
    "    _, pvalue = stats.ttest_ind(metrics_a_group, metrics_b_group)\n",
    "    return pvalue"
   ]
  },
  {
   "cell_type": "code",
   "execution_count": 16,
   "id": "388d23ac",
   "metadata": {},
   "outputs": [],
   "source": [
    "# Test the function with example data\n",
    "metrics_a_group = np.array([964, 1123, 962, 1213, 914, 906, 951, 1033, 987, 1082])\n",
    "metrics_b_group = np.array([952, 1064, 1091, 1079, 1158, 921, 1161, 1064, 819, 1065])\n",
    "pvalue = get_ttest_pvalue(metrics_a_group, metrics_b_group)\n"
   ]
  },
  {
   "cell_type": "markdown",
   "id": "129e88b3",
   "metadata": {},
   "source": [
    "### MDE. Sample size"
   ]
  },
  {
   "cell_type": "code",
   "execution_count": 17,
   "id": "c5c0b04a",
   "metadata": {},
   "outputs": [],
   "source": [
    "web_logs=read_database('2022-04-01T12_df_web_logs.csv')"
   ]
  },
  {
   "cell_type": "code",
   "execution_count": 18,
   "id": "89ac77f5",
   "metadata": {},
   "outputs": [
    {
     "data": {
      "text/html": [
       "<div>\n",
       "<style scoped>\n",
       "    .dataframe tbody tr th:only-of-type {\n",
       "        vertical-align: middle;\n",
       "    }\n",
       "\n",
       "    .dataframe tbody tr th {\n",
       "        vertical-align: top;\n",
       "    }\n",
       "\n",
       "    .dataframe thead th {\n",
       "        text-align: right;\n",
       "    }\n",
       "</style>\n",
       "<table border=\"1\" class=\"dataframe\">\n",
       "  <thead>\n",
       "    <tr style=\"text-align: right;\">\n",
       "      <th></th>\n",
       "      <th>user_id</th>\n",
       "      <th>page</th>\n",
       "      <th>date</th>\n",
       "      <th>load_time</th>\n",
       "    </tr>\n",
       "  </thead>\n",
       "  <tbody>\n",
       "    <tr>\n",
       "      <th>0</th>\n",
       "      <td>f25239</td>\n",
       "      <td>m</td>\n",
       "      <td>2022-02-03 23:45:37</td>\n",
       "      <td>80.8</td>\n",
       "    </tr>\n",
       "    <tr>\n",
       "      <th>1</th>\n",
       "      <td>06d6df</td>\n",
       "      <td>m</td>\n",
       "      <td>2022-02-03 23:49:56</td>\n",
       "      <td>70.5</td>\n",
       "    </tr>\n",
       "    <tr>\n",
       "      <th>2</th>\n",
       "      <td>06d6df</td>\n",
       "      <td>m</td>\n",
       "      <td>2022-02-03 23:51:16</td>\n",
       "      <td>89.7</td>\n",
       "    </tr>\n",
       "    <tr>\n",
       "      <th>3</th>\n",
       "      <td>f25239</td>\n",
       "      <td>m</td>\n",
       "      <td>2022-02-03 23:51:43</td>\n",
       "      <td>74.4</td>\n",
       "    </tr>\n",
       "    <tr>\n",
       "      <th>4</th>\n",
       "      <td>697870</td>\n",
       "      <td>m</td>\n",
       "      <td>2022-02-03 23:53:12</td>\n",
       "      <td>66.8</td>\n",
       "    </tr>\n",
       "  </tbody>\n",
       "</table>\n",
       "</div>"
      ],
      "text/plain": [
       "  user_id page                 date  load_time\n",
       "0  f25239    m  2022-02-03 23:45:37       80.8\n",
       "1  06d6df    m  2022-02-03 23:49:56       70.5\n",
       "2  06d6df    m  2022-02-03 23:51:16       89.7\n",
       "3  f25239    m  2022-02-03 23:51:43       74.4\n",
       "4  697870    m  2022-02-03 23:53:12       66.8"
      ]
     },
     "execution_count": 18,
     "metadata": {},
     "output_type": "execute_result"
    }
   ],
   "source": [
    "web_logs.head()\n"
   ]
  },
  {
   "cell_type": "markdown",
   "id": "7905c082",
   "metadata": {},
   "source": [
    "Web-logs - table with logs of site visits.\n",
    "\n",
    "1. user_id - user ID;\n",
    "2. page - what page of the site was opened. Page types:\n",
    "    + m - page with menu;\n",
    "    + b - page with cart and order confirmation;\n",
    "    + p - page with order payment;\n",
    "3. date - date of page opening;\n",
    "4. load_time - page load time in milliseconds.\n",
    "\n",
    "**The data is assumed to be independent**"
   ]
  },
  {
   "cell_type": "code",
   "execution_count": 19,
   "id": "4cabedb7",
   "metadata": {},
   "outputs": [
    {
     "name": "stdout",
     "output_type": "stream",
     "text": [
      "min date- 2022-02-03 23:45:37 max_date- 2022-04-01 11:59:57\n",
      "(1964507, 4)\n"
     ]
    },
    {
     "data": {
      "text/plain": [
       "<AxesSubplot:>"
      ]
     },
     "execution_count": 19,
     "metadata": {},
     "output_type": "execute_result"
    },
    {
     "data": {
      "image/png": "[encoded data removed]",
      "text/plain": [
       "<Figure size 640x480 with 1 Axes>"
      ]
     },
     "metadata": {},
     "output_type": "display_data"
    }
   ],
   "source": [
    "web_logs['date']=pd.to_datetime(web_logs['date'])\n",
    "print('min date-',web_logs['date'].min(),'max_date-',web_logs['date'].max())\n",
    "print(web_logs.shape)\n",
    "web_logs['date'].hist(xrot=45)"
   ]
  },
  {
   "cell_type": "code",
   "execution_count": 20,
   "id": "38f1352a",
   "metadata": {},
   "outputs": [
    {
     "data": {
      "text/plain": [
       "(247163, 4)"
      ]
     },
     "execution_count": 20,
     "metadata": {},
     "output_type": "execute_result"
    }
   ],
   "source": [
    "#Suppose we want to run the test for one week.\n",
    "web_logs_hist=web_logs[\n",
    "    (web_logs['date']>=datetime(2022,3,22)) &\n",
    "    (web_logs['date']<datetime(2022,3,29))\n",
    "]\n",
    "web_logs_hist.shape"
   ]
  },
  {
   "cell_type": "code",
   "execution_count": 21,
   "id": "ed679a1c",
   "metadata": {},
   "outputs": [],
   "source": [
    "# for an equel variance \n",
    "def get_sample_size_abs(epsilon, std, alpha=0.05, beta=0.2):\n",
    "    t_alpha = norm.ppf(1 - alpha / 2, loc=0, scale=1)\n",
    "    t_beta = norm.ppf(1 - beta, loc=0, scale=1)\n",
    "    z_scores_sum_squared = (t_alpha + t_beta) ** 2\n",
    "    sample_size = int(\n",
    "        np.ceil(\n",
    "            z_scores_sum_squared * (2 * std ** 2) / (epsilon ** 2)\n",
    "        )\n",
    "    )\n",
    "    return sample_size\n",
    "\n",
    "def get_sample_size_arb(mu, std, effect_size=1.01, alpha=0.05, beta=0.2): # if we want to calculete relative effect size\n",
    "    epsilon = (effect_size - 1) * mu\n",
    "\n",
    "    return get_sample_size_abs(epsilon, std=std, alpha=alpha, beta=beta)"
   ]
  },
  {
   "cell_type": "markdown",
   "id": "e090f997",
   "metadata": {},
   "source": [
    "We want to be able to detect 1% effect in the page load time with a high probability."
   ]
  },
  {
   "cell_type": "code",
   "execution_count": 22,
   "id": "dbe7d7cd",
   "metadata": {},
   "outputs": [
    {
     "name": "stdout",
     "output_type": "stream",
     "text": [
      "74.09834562616594 111.56972405581025\n"
     ]
    }
   ],
   "source": [
    "# Experiment parameters\n",
    "\n",
    "alpha=0.05 # significance level\n",
    "beta=0.2 # power of the test\n",
    "effect_size=1.01 # 1% effect \n",
    "\n",
    "mean=web_logs_hist['load_time'].mean()\n",
    "std=web_logs_hist['load_time'].std()\n",
    "print(mean,std)"
   ]
  },
  {
   "cell_type": "code",
   "execution_count": 23,
   "id": "7440d1c2",
   "metadata": {},
   "outputs": [
    {
     "name": "stdout",
     "output_type": "stream",
     "text": [
      "Sample size for each group: 355889\n"
     ]
    }
   ],
   "source": [
    "sample_size=get_sample_size_abs(mean/100,std,alpha=alpha,beta=beta) \n",
    "print(\"Sample size for each group:\", sample_size)\n"
   ]
  },
  {
   "cell_type": "markdown",
   "id": "a754a497",
   "metadata": {},
   "source": [
    "Since sample size for each group is 355889, the experiment requires 700 000 observations, while we have only 247 000. \n",
    "What effect can be detected with current amount of oservations? "
   ]
  },
  {
   "cell_type": "code",
   "execution_count": 24,
   "id": "8282c077",
   "metadata": {},
   "outputs": [],
   "source": [
    "def get_minimal_determinable_effect (std,sample_size, alpha=0.05, beta=0.2):\n",
    "    t_alpha=norm.ppf(1-alpha/2, loc=0,scale=1)\n",
    "    t_beta=norm.ppf(1-beta, loc=0,scale=1)\n",
    "    disp_sum_sqrt = (2 * (std ** 2)) ** 0.5\n",
    "    mde = (t_alpha + t_beta) * disp_sum_sqrt / np.sqrt(sample_size)\n",
    "    return mde"
   ]
  },
  {
   "cell_type": "code",
   "execution_count": 25,
   "id": "5ac7b63e",
   "metadata": {},
   "outputs": [
    {
     "name": "stdout",
     "output_type": "stream",
     "text": [
      "mde = 1.257\n",
      "mde = 1.697%\n"
     ]
    }
   ],
   "source": [
    "mde=get_minimal_determinable_effect(std,web_logs_hist.shape[0] //2,alpha=alpha,beta=beta)\n",
    "print(f'mde = {np.round(mde, 3)}')\n",
    "print(f'mde = {np.round(mde / mean * 100, 3)}%')"
   ]
  },
  {
   "cell_type": "markdown",
   "id": "6c12e783",
   "metadata": {},
   "source": [
    "with 247 000 observations we can detect 1.697% effect \n",
    "\n",
    "How many pages downloads do we need to detect 3% effect? "
   ]
  },
  {
   "cell_type": "code",
   "execution_count": 26,
   "id": "aebd9c05",
   "metadata": {},
   "outputs": [
    {
     "name": "stdout",
     "output_type": "stream",
     "text": [
      "sample_size = 39544\n"
     ]
    }
   ],
   "source": [
    "alpha = 0.05\n",
    "beta = 0.2\n",
    "eff = 1.03\n",
    "sample_size=get_sample_size_arb(mean,std,effect_size=eff,alpha=alpha,beta=beta)\n",
    "print(f'sample_size = {sample_size}')"
   ]
  },
  {
   "cell_type": "markdown",
   "id": "c3c50ecd",
   "metadata": {},
   "source": [
    "How many customers do we need in each group? "
   ]
  },
  {
   "cell_type": "code",
   "execution_count": 27,
   "id": "f1e5dbcb",
   "metadata": {},
   "outputs": [
    {
     "name": "stdout",
     "output_type": "stream",
     "text": [
      "7.015298592188919\n"
     ]
    }
   ],
   "source": [
    "ratio=web_logs_hist.groupby(['user_id'])['load_time'].count().mean()\n",
    "print(ratio)"
   ]
  },
  {
   "cell_type": "code",
   "execution_count": 28,
   "id": "8275e467",
   "metadata": {},
   "outputs": [
    {
     "name": "stdout",
     "output_type": "stream",
     "text": [
      "n_users = 5637\n"
     ]
    }
   ],
   "source": [
    "n_users=int(sample_size/ratio)+1\n",
    "print(f'n_users = {n_users}')"
   ]
  },
  {
   "cell_type": "markdown",
   "id": "a2376a41",
   "metadata": {},
   "source": [
    "Therefore, based on historical data, each group requires 6,000 users to be allocated to each group that will generate enough traffic that we are able to capture the 3% effect at a significance level of 0.05 and a power of 0"
   ]
  },
  {
   "cell_type": "code",
   "execution_count": 29,
   "id": "ca66d71f",
   "metadata": {},
   "outputs": [
    {
     "data": {
      "text/html": [
       "<div>\n",
       "<style scoped>\n",
       "    .dataframe tbody tr th:only-of-type {\n",
       "        vertical-align: middle;\n",
       "    }\n",
       "\n",
       "    .dataframe tbody tr th {\n",
       "        vertical-align: top;\n",
       "    }\n",
       "\n",
       "    .dataframe thead th {\n",
       "        text-align: right;\n",
       "    }\n",
       "</style>\n",
       "<table border=\"1\" class=\"dataframe\">\n",
       "  <thead>\n",
       "    <tr style=\"text-align: right;\">\n",
       "      <th></th>\n",
       "      <th>sale_id</th>\n",
       "      <th>date</th>\n",
       "      <th>count_pizza</th>\n",
       "      <th>count_drink</th>\n",
       "      <th>price</th>\n",
       "      <th>user_id</th>\n",
       "    </tr>\n",
       "  </thead>\n",
       "  <tbody>\n",
       "    <tr>\n",
       "      <th>63207</th>\n",
       "      <td>1063208</td>\n",
       "      <td>2022-02-21 10:02:02</td>\n",
       "      <td>4</td>\n",
       "      <td>1</td>\n",
       "      <td>3030</td>\n",
       "      <td>fcaa0f</td>\n",
       "    </tr>\n",
       "    <tr>\n",
       "      <th>63208</th>\n",
       "      <td>1063209</td>\n",
       "      <td>2022-02-21 10:04:43</td>\n",
       "      <td>3</td>\n",
       "      <td>1</td>\n",
       "      <td>2250</td>\n",
       "      <td>8d8445</td>\n",
       "    </tr>\n",
       "    <tr>\n",
       "      <th>63209</th>\n",
       "      <td>1063210</td>\n",
       "      <td>2022-02-21 10:05:40</td>\n",
       "      <td>1</td>\n",
       "      <td>0</td>\n",
       "      <td>780</td>\n",
       "      <td>e21af3</td>\n",
       "    </tr>\n",
       "    <tr>\n",
       "      <th>63210</th>\n",
       "      <td>1063211</td>\n",
       "      <td>2022-02-21 10:09:01</td>\n",
       "      <td>4</td>\n",
       "      <td>0</td>\n",
       "      <td>2880</td>\n",
       "      <td>e23104</td>\n",
       "    </tr>\n",
       "    <tr>\n",
       "      <th>63211</th>\n",
       "      <td>1063212</td>\n",
       "      <td>2022-02-21 10:11:20</td>\n",
       "      <td>2</td>\n",
       "      <td>1</td>\n",
       "      <td>1620</td>\n",
       "      <td>748932</td>\n",
       "    </tr>\n",
       "  </tbody>\n",
       "</table>\n",
       "</div>"
      ],
      "text/plain": [
       "       sale_id                date  count_pizza  count_drink  price user_id\n",
       "63207  1063208 2022-02-21 10:02:02            4            1   3030  fcaa0f\n",
       "63208  1063209 2022-02-21 10:04:43            3            1   2250  8d8445\n",
       "63209  1063210 2022-02-21 10:05:40            1            0    780  e21af3\n",
       "63210  1063211 2022-02-21 10:09:01            4            0   2880  e23104\n",
       "63211  1063212 2022-02-21 10:11:20            2            1   1620  748932"
      ]
     },
     "execution_count": 29,
     "metadata": {},
     "output_type": "execute_result"
    }
   ],
   "source": [
    "\n",
    "\n",
    "sales=read_database('2022-04-01T12_df_sales.csv')\n",
    "sales['date']=pd.to_datetime(sales['date'])\n",
    "sales_hist=sales[\n",
    "    (sales['date']>=datetime(2022,2,21)) &\n",
    "    (sales['date']<datetime(2022,2,28))\n",
    "]\n",
    "sales_hist.head() \n"
   ]
  },
  {
   "cell_type": "code",
   "execution_count": 30,
   "id": "c5f64139",
   "metadata": {},
   "outputs": [
    {
     "data": {
      "text/plain": [
       "(24840, 2)"
      ]
     },
     "execution_count": 30,
     "metadata": {},
     "output_type": "execute_result"
    }
   ],
   "source": [
    "begin_date = datetime(2022, 2, 21)\n",
    "end_date = datetime(2022, 2, 28)\n",
    "df_metrics = (\n",
    "    df_sales\n",
    "    [(df_sales['date'] >= begin_date) & (df_sales['date'] < end_date)]\n",
    "    .groupby('user_id')[['price']].sum()\n",
    "    .reset_index())\n",
    "df_metrics.shape"
   ]
  },
  {
   "cell_type": "code",
   "execution_count": 31,
   "id": "6dab280d",
   "metadata": {},
   "outputs": [
    {
     "data": {
      "text/plain": [
       "(25347, 6)"
      ]
     },
     "execution_count": 31,
     "metadata": {},
     "output_type": "execute_result"
    }
   ],
   "source": [
    "sales_hist.shape"
   ]
  },
  {
   "cell_type": "code",
   "execution_count": 32,
   "id": "369296dc",
   "metadata": {},
   "outputs": [
    {
     "name": "stdout",
     "output_type": "stream",
     "text": [
      "1209.9905314238372 783.1782330895605\n"
     ]
    }
   ],
   "source": [
    "mean=sales_hist['price'].mean()\n",
    "std=sales_hist['price'].std()\n",
    "print(mean,std)"
   ]
  },
  {
   "cell_type": "code",
   "execution_count": 33,
   "id": "9b6a4f30",
   "metadata": {},
   "outputs": [
    {
     "name": "stdout",
     "output_type": "stream",
     "text": [
      "1234.6871980676328 811.1803387604872\n"
     ]
    }
   ],
   "source": [
    "mean=df_metrics['price'].mean()\n",
    "std=df_metrics['price'].std()\n",
    "print(mean,std)"
   ]
  },
  {
   "cell_type": "code",
   "execution_count": 34,
   "id": "b10744d4",
   "metadata": {},
   "outputs": [
    {
     "name": "stdout",
     "output_type": "stream",
     "text": [
      "sample_size = 25820\n"
     ]
    }
   ],
   "source": [
    "sample_size=get_sample_size_abs(20, std, alpha=alpha, beta=beta)\n",
    "alpha = 0.05\n",
    "beta = 0.1\n",
    "eff = 20 # 20 usd effect \n",
    "print(f'sample_size = {round(sample_size,-1)}')"
   ]
  },
  {
   "cell_type": "code",
   "execution_count": 35,
   "id": "562d21e5",
   "metadata": {},
   "outputs": [
    {
     "name": "stdout",
     "output_type": "stream",
     "text": [
      "mde = 33.367\n",
      "mde = 2.702%\n"
     ]
    }
   ],
   "source": [
    "mde=get_minimal_determinable_effect(std,df_metrics.shape[0]//2,alpha=alpha,beta=beta)\n",
    "print(f'mde = {np.round(mde, 3)}')\n",
    "print(f'mde = {np.round(mde / mean * 100, 3)}%')"
   ]
  },
  {
   "cell_type": "code",
   "execution_count": 36,
   "id": "b6bb9014",
   "metadata": {},
   "outputs": [],
   "source": [
    "def estimate_sample_size(metrics, effect, alpha, beta):\n",
    "    std = np.std(metrics['metric'].values)\n",
    "    mean = np.mean(metrics['metric'].values)\n",
    "    epsilon = effect / 100 * mean\n",
    "    # ratio of the number of unique users to the number of observations\n",
    "    coef = metrics['user_id'].nunique() / len(metrics)\n",
    "    t_alpha = stats.norm.ppf(1 - alpha / 2, loc=0, scale=1)\n",
    "    t_beta = stats.norm.ppf(1 - beta, loc=0, scale=1)\n",
    "    z_scores_sum_squared = (t_alpha + t_beta) ** 2\n",
    "    sample_size = int(\n",
    "        np.ceil(\n",
    "            z_scores_sum_squared * (2 * std ** 2) / (epsilon ** 2) * coef\n",
    "        )\n",
    "    )\n",
    "    return sample_size"
   ]
  },
  {
   "cell_type": "markdown",
   "id": "bf646552",
   "metadata": {},
   "source": [
    "### Experiment design test"
   ]
  },
  {
   "cell_type": "code",
   "execution_count": 37,
   "id": "82ce1faf",
   "metadata": {},
   "outputs": [],
   "source": [
    "URL_BASE = 'https://raw.githubusercontent.com/ab-courses/simulator-ab-datasets/main/2022-04-01/'\n",
    "\n",
    "def read_database(file_name):\n",
    "    return pd.read_csv(os.path.join(URL_BASE, file_name))\n",
    "\n",
    "web_logs = read_database('2022-04-01T12_df_web_logs.csv')"
   ]
  },
  {
   "cell_type": "code",
   "execution_count": 38,
   "id": "1c44b8d6",
   "metadata": {},
   "outputs": [
    {
     "data": {
      "text/html": [
       "<div>\n",
       "<style scoped>\n",
       "    .dataframe tbody tr th:only-of-type {\n",
       "        vertical-align: middle;\n",
       "    }\n",
       "\n",
       "    .dataframe tbody tr th {\n",
       "        vertical-align: top;\n",
       "    }\n",
       "\n",
       "    .dataframe thead th {\n",
       "        text-align: right;\n",
       "    }\n",
       "</style>\n",
       "<table border=\"1\" class=\"dataframe\">\n",
       "  <thead>\n",
       "    <tr style=\"text-align: right;\">\n",
       "      <th></th>\n",
       "      <th>sale_id</th>\n",
       "      <th>date</th>\n",
       "      <th>count_pizza</th>\n",
       "      <th>count_drink</th>\n",
       "      <th>price</th>\n",
       "      <th>user_id</th>\n",
       "    </tr>\n",
       "  </thead>\n",
       "  <tbody>\n",
       "    <tr>\n",
       "      <th>0</th>\n",
       "      <td>1000001</td>\n",
       "      <td>2022-02-04 10:00:24</td>\n",
       "      <td>1</td>\n",
       "      <td>0</td>\n",
       "      <td>720</td>\n",
       "      <td>1c1543</td>\n",
       "    </tr>\n",
       "    <tr>\n",
       "      <th>1</th>\n",
       "      <td>1000002</td>\n",
       "      <td>2022-02-04 10:02:28</td>\n",
       "      <td>1</td>\n",
       "      <td>1</td>\n",
       "      <td>930</td>\n",
       "      <td>a9a6e8</td>\n",
       "    </tr>\n",
       "    <tr>\n",
       "      <th>2</th>\n",
       "      <td>1000003</td>\n",
       "      <td>2022-02-04 10:02:35</td>\n",
       "      <td>3</td>\n",
       "      <td>1</td>\n",
       "      <td>1980</td>\n",
       "      <td>23420a</td>\n",
       "    </tr>\n",
       "  </tbody>\n",
       "</table>\n",
       "</div>"
      ],
      "text/plain": [
       "   sale_id                date  count_pizza  count_drink  price user_id\n",
       "0  1000001 2022-02-04 10:00:24            1            0    720  1c1543\n",
       "1  1000002 2022-02-04 10:02:28            1            1    930  a9a6e8\n",
       "2  1000003 2022-02-04 10:02:35            3            1   1980  23420a"
      ]
     },
     "execution_count": 38,
     "metadata": {},
     "output_type": "execute_result"
    }
   ],
   "source": [
    "sales = read_database('2022-04-01T12_df_sales.csv')\n",
    "sales['date'] = pd.to_datetime(sales['date'])\n",
    "sales.head(3)"
   ]
  },
  {
   "cell_type": "code",
   "execution_count": 39,
   "id": "abd401af",
   "metadata": {},
   "outputs": [
    {
     "name": "stdout",
     "output_type": "stream",
     "text": [
      "2022-02-04 10:00:24\n",
      "2022-04-01 11:59:51\n",
      "(203847, 6)\n"
     ]
    },
    {
     "data": {
      "image/png": "[encoded data removed]",
      "text/plain": [
       "<Figure size 640x480 with 1 Axes>"
      ]
     },
     "metadata": {},
     "output_type": "display_data"
    }
   ],
   "source": [
    "print(sales['date'].min())\n",
    "print(sales['date'].max())\n",
    "print(sales.shape)\n",
    "sales['price'].hist(bins=20);"
   ]
  },
  {
   "cell_type": "markdown",
   "id": "ddd65df0",
   "metadata": {},
   "source": [
    "Let's assume that we want to run the test for 4 weeks.\n",
    "\n",
    "For this purpose, we will choose an interval of one week on the historical interval and perform all calculations for this time interval. Note that today is April 1, so we have taken the week immediately before the start of the experiment."
   ]
  },
  {
   "cell_type": "code",
   "execution_count": 40,
   "id": "694ace10",
   "metadata": {},
   "outputs": [
    {
     "data": {
      "text/plain": [
       "(101951, 6)"
      ]
     },
     "execution_count": 40,
     "metadata": {},
     "output_type": "execute_result"
    }
   ],
   "source": [
    "sales_hist=sales[\n",
    "    (sales['date']>=datetime(2022,3,1)) &\n",
    "    (sales['date']<datetime(2022,3,29))\n",
    "]\n",
    "sales_hist.shape"
   ]
  },
  {
   "cell_type": "code",
   "execution_count": 41,
   "id": "442f4368",
   "metadata": {},
   "outputs": [],
   "source": [
    "def plot_pvalue_ecdf(pvalues, title=None):\n",
    "    fig, (ax1, ax2) = plt.subplots(1, 2, figsize=(12, 4))\n",
    "\n",
    "    if title:\n",
    "        plt.suptitle(title)\n",
    "\n",
    "    sns.histplot(pvalues, ax=ax1, bins=20, stat='density')\n",
    "    ax1.plot([0,1],[1,1], 'k--')\n",
    "    ax1.set(xlabel='p-value', ylabel='Density')\n",
    "\n",
    "    sns.ecdfplot(pvalues, ax=ax2)\n",
    "    ax2.plot([0,1],[0,1], 'k--')\n",
    "    ax2.set(xlabel='p-value', ylabel='Probability')\n",
    "    ax2.grid()"
   ]
  },
  {
   "cell_type": "markdown",
   "id": "bfd012ea",
   "metadata": {},
   "source": [
    "To check the correctness of the experiment design, we must simulate this experiment on historical data many times. First, let us check whether the probability of the 1st type of error is controlled. For this purpose, the objects in our sample will be **checks**. That is, we divide all people into 2 groups, collect all checks independently, and run a t-test."
   ]
  },
  {
   "cell_type": "code",
   "execution_count": 42,
   "id": "24a63169",
   "metadata": {},
   "outputs": [
    {
     "data": {
      "image/png": "[encoded data removed]",
      "text/plain": [
       "<Figure size 1200x400 with 2 Axes>"
      ]
     },
     "metadata": {},
     "output_type": "display_data"
    }
   ],
   "source": [
    "p_values=[]\n",
    "users=sales_hist['user_id'].unique()\n",
    "for _ in range(1000):\n",
    "    np.random.shuffle(users)\n",
    "    group_a,group_b=users[:len(users) // 2],users[len(users) // 2:]\n",
    "    sales_a=sales_hist[sales_hist['user_id'].isin(group_a)]['price']\n",
    "    sales_b=sales_hist[sales_hist['user_id'].isin(group_b)]['price']\n",
    "    _, p_value=ttest_ind(sales_a,sales_b)\n",
    "    p_values.append(p_value)\n",
    "plot_pvalue_ecdf(p_values, 'p-value ECDF. Dependent data')"
   ]
  },
  {
   "cell_type": "code",
   "execution_count": 43,
   "id": "bec9016b",
   "metadata": {},
   "outputs": [
    {
     "name": "stdout",
     "output_type": "stream",
     "text": [
      "0.109 real probability of false positive result (I type error) with significance level 0.05\n"
     ]
    }
   ],
   "source": [
    "print((np.array(p_values) < 0.05).mean(),'real probability of false positive result (I type error) with significance level 0.05')"
   ]
  },
  {
   "cell_type": "markdown",
   "id": "55f9c1df",
   "metadata": {},
   "source": [
    "This behavior is due to the fact that the sample does not satisfy the regularity conditions of the t-test, in particular, the observations are **not independent** because one person may make multiple purchases during the experiment.\n",
    "\n",
    "To make the data independent, let's calculate the metric **average check per user**. The data will be statistically independent, because we will get one value from each user, and users are independent among themselves."
   ]
  },
  {
   "cell_type": "code",
   "execution_count": 44,
   "id": "ca912b2d",
   "metadata": {},
   "outputs": [
    {
     "data": {
      "image/png": "[encoded data removed]",
      "text/plain": [
       "<Figure size 1200x400 with 2 Axes>"
      ]
     },
     "metadata": {},
     "output_type": "display_data"
    }
   ],
   "source": [
    "p_values=[]\n",
    "grouped_sales=sales_hist.groupby('user_id')['price'].mean().reset_index()\n",
    "users=sales_hist['user_id'].unique()\n",
    "for _ in range(1000):\n",
    "    np.random.shuffle(users)\n",
    "    group_a,group_b=users[:len(users) // 2],users[len(users) // 2:]\n",
    "    sales_a=grouped_sales[grouped_sales['user_id'].isin(group_a)]['price']\n",
    "    sales_b=grouped_sales[grouped_sales['user_id'].isin(group_b)]['price']\n",
    "    _, p_value=ttest_ind(sales_a,sales_b)\n",
    "    p_values.append(p_value)\n",
    "plot_pvalue_ecdf(p_values, 'p-value ECDF. Dependent data')"
   ]
  },
  {
   "cell_type": "markdown",
   "id": "a4c0d081",
   "metadata": {},
   "source": [
    "Test power "
   ]
  },
  {
   "cell_type": "code",
   "execution_count": 45,
   "id": "8bc3f177",
   "metadata": {},
   "outputs": [
    {
     "name": "stdout",
     "output_type": "stream",
     "text": [
      "mde = 15.866\n"
     ]
    }
   ],
   "source": [
    "mean =grouped_sales['price'].mean()\n",
    "std= grouped_sales['price'].std()\n",
    "sample_size=grouped_sales.shape[0] // 2\n",
    "alpha0= 0.05\n",
    "beta0= 0.2\n",
    "mde = get_minimal_determinable_effect(std, sample_size, alpha=alpha0, beta=beta0)\n",
    "print(f'mde = {np.round(mde, 3)}')"
   ]
  },
  {
   "cell_type": "code",
   "execution_count": 46,
   "id": "a64dbef7",
   "metadata": {},
   "outputs": [
    {
     "data": {
      "image/png": "[encoded data removed]",
      "text/plain": [
       "<Figure size 1200x400 with 2 Axes>"
      ]
     },
     "metadata": {},
     "output_type": "display_data"
    }
   ],
   "source": [
    "#Test power\n",
    "p_values=[]\n",
    "grouped_sales=sales_hist.groupby('user_id')['price'].mean().reset_index()\n",
    "users=sales_hist['user_id'].unique()\n",
    "for _ in range(1000):\n",
    "    np.random.shuffle(users)\n",
    "    group_a,group_b=users[:len(users) // 2],users[len(users) // 2:]\n",
    "    sales_a=grouped_sales[grouped_sales['user_id'].isin(group_a)]['price']\n",
    "    sales_b=grouped_sales[grouped_sales['user_id'].isin(group_b)]['price']\n",
    "    sales_b +=np.random.normal(mde,std // 10,sales_b.shape)   # adding a synthetic effect to historical data + a bit of variance\n",
    "    _, p_value=ttest_ind(sales_a,sales_b)\n",
    "    p_values.append(p_value)\n",
    "plot_pvalue_ecdf(p_values, 'p-value ECDF. Independent data with effect = md')"
   ]
  },
  {
   "cell_type": "markdown",
   "id": "7fc16d21",
   "metadata": {},
   "source": [
    "The power of the test on 80% probability to detect a MDE."
   ]
  },
  {
   "cell_type": "code",
   "execution_count": 47,
   "id": "ce32ede7",
   "metadata": {},
   "outputs": [],
   "source": [
    "def get_ttest_pvalue(metrics_a_group, metrics_b_group):\n",
    "    _, pvalue = stats.ttest_ind(metrics_a_group, metrics_b_group)\n",
    "    return pvalue\n",
    "\n",
    "def estimate_errors(group_generator, effect_add_type, effect, alpha):\n",
    "    pvalues_aa = []\n",
    "    pvalues_ab = []\n",
    "    for a_metric_values, b_metric_values in group_generator:\n",
    "        pvalues_aa.append(get_ttest_pvalue(a_metric_values, b_metric_values))\n",
    "        b_metric_values_with_effect = b_metric_values.copy()\n",
    "        if effect_add_type == 'all_percent':\n",
    "            b_metric_values_with_effect *= 1 + effect / 100\n",
    "        elif effect_add_type == 'all_const':\n",
    "            b_metric_values_with_effect += b_metric_values_with_effect.mean() * effect / 100\n",
    "        pvalues_ab.append(get_ttest_pvalue(a_metric_values, b_metric_values_with_effect))\n",
    "    first_type_error = np.mean(np.array(pvalues_aa) < alpha)\n",
    "    second_type_error = np.mean(np.array(pvalues_ab) >= alpha)\n",
    "    return pvalues_aa, pvalues_ab, first_type_error, second_type_error"
   ]
  },
  {
   "cell_type": "markdown",
   "id": "b0d5aead",
   "metadata": {},
   "source": [
    "## Bootstrap & confidence intervals"
   ]
  },
  {
   "cell_type": "markdown",
   "id": "68ebf4f4",
   "metadata": {},
   "source": [
    "### 3 ways to build confidence intervals"
   ]
  },
  {
   "cell_type": "code",
   "execution_count": 48,
   "id": "ffec30b7",
   "metadata": {},
   "outputs": [],
   "source": [
    "def get_ci_bootstrap_normal(boot_metrics: np.array, pe_metric: float, alpha: float=0.05):\n",
    "\n",
    "    \"\"\" Builds a normal confidence interval.\n",
    "\n",
    "    boot_metrics - metric values obtained with bootstrap\n",
    "    pe_metric - point estimate of the metric\n",
    "    alpha - significance level.\n",
    "    \n",
    "    return: (left, right) - boundaries of the confidence interval.\n",
    "    \"\"\"\n",
    "\n",
    "    c = stats.norm.ppf(1 - alpha / 2)\n",
    "    se = np.std(boot_metrics)\n",
    "    left, right = pe_metric - c * se, pe_metric + c * se\n",
    "    return left, right\n",
    "\n",
    "\n",
    "def get_ci_bootstrap_percentile(boot_metrics: np.array, pe_metric: float, alpha: float=0.05):\n",
    "    \"\"\"Constructs a confidence interval at percentiles.\n",
    "\n",
    "    boot_metrics - metric values obtained with bootstrap\n",
    "    pe_metric - point estimate of the metric\n",
    "    alpha - significance level\n",
    "    \n",
    "    return: (left, right) - boundaries of the confidence interval.\n",
    "    \"\"\"\n",
    "    left, right = np.quantile(boot_metrics, [alpha / 2, 1 - alpha / 2])\n",
    "    return left, right\n",
    "\n",
    "\n",
    "def get_ci_bootstrap_pivotal(boot_metrics: np.array, pe_metric: float, alpha: float=0.05):\n",
    "    \"\"\"Constructs the central confidence interval.\n",
    "\n",
    "    boot_metrics - metric values obtained with bootstrap\n",
    " pe_metric - point estimate of the metric\n",
    " alpha - significance level\n",
    "    \n",
    "    return: (left, right) - boundaries of the confidence interval.\n",
    "    \"\"\"\n",
    "    right, left = 2 * pe_metric - np.quantile(boot_metrics, [alpha / 2, 1 - alpha / 2])\n",
    "    return left, right"
   ]
  },
  {
   "cell_type": "code",
   "execution_count": 49,
   "id": "12d4e0f9",
   "metadata": {},
   "outputs": [
    {
     "data": {
      "text/html": [
       "<div>\n",
       "<style scoped>\n",
       "    .dataframe tbody tr th:only-of-type {\n",
       "        vertical-align: middle;\n",
       "    }\n",
       "\n",
       "    .dataframe tbody tr th {\n",
       "        vertical-align: top;\n",
       "    }\n",
       "\n",
       "    .dataframe thead th {\n",
       "        text-align: right;\n",
       "    }\n",
       "</style>\n",
       "<table border=\"1\" class=\"dataframe\">\n",
       "  <thead>\n",
       "    <tr style=\"text-align: right;\">\n",
       "      <th></th>\n",
       "      <th>user_id</th>\n",
       "      <th>page</th>\n",
       "      <th>date</th>\n",
       "      <th>load_time</th>\n",
       "    </tr>\n",
       "  </thead>\n",
       "  <tbody>\n",
       "    <tr>\n",
       "      <th>0</th>\n",
       "      <td>f25239</td>\n",
       "      <td>m</td>\n",
       "      <td>2022-02-03 23:45:37</td>\n",
       "      <td>80.8</td>\n",
       "    </tr>\n",
       "    <tr>\n",
       "      <th>1</th>\n",
       "      <td>06d6df</td>\n",
       "      <td>m</td>\n",
       "      <td>2022-02-03 23:49:56</td>\n",
       "      <td>70.5</td>\n",
       "    </tr>\n",
       "    <tr>\n",
       "      <th>2</th>\n",
       "      <td>06d6df</td>\n",
       "      <td>m</td>\n",
       "      <td>2022-02-03 23:51:16</td>\n",
       "      <td>89.7</td>\n",
       "    </tr>\n",
       "    <tr>\n",
       "      <th>3</th>\n",
       "      <td>f25239</td>\n",
       "      <td>m</td>\n",
       "      <td>2022-02-03 23:51:43</td>\n",
       "      <td>74.4</td>\n",
       "    </tr>\n",
       "    <tr>\n",
       "      <th>4</th>\n",
       "      <td>697870</td>\n",
       "      <td>m</td>\n",
       "      <td>2022-02-03 23:53:12</td>\n",
       "      <td>66.8</td>\n",
       "    </tr>\n",
       "  </tbody>\n",
       "</table>\n",
       "</div>"
      ],
      "text/plain": [
       "  user_id page                date  load_time\n",
       "0  f25239    m 2022-02-03 23:45:37       80.8\n",
       "1  06d6df    m 2022-02-03 23:49:56       70.5\n",
       "2  06d6df    m 2022-02-03 23:51:16       89.7\n",
       "3  f25239    m 2022-02-03 23:51:43       74.4\n",
       "4  697870    m 2022-02-03 23:53:12       66.8"
      ]
     },
     "execution_count": 49,
     "metadata": {},
     "output_type": "execute_result"
    }
   ],
   "source": [
    "URL_BASE = 'https://raw.githubusercontent.com/ab-courses/simulator-ab-datasets/main/2022-04-01/'\n",
    "\n",
    "web_logs=read_database('2022-04-01T12_df_web_logs.csv')\n",
    "web_logs['date']=pd.to_datetime(web_logs['date'])\n",
    "web_logs.head(5)"
   ]
  },
  {
   "cell_type": "code",
   "execution_count": 50,
   "id": "43d5f072",
   "metadata": {},
   "outputs": [],
   "source": [
    "np.random.seed(23)\n",
    "web_logs_hist=web_logs\n",
    "users=web_logs_hist['user_id'].unique()\n",
    "\n",
    "np.random.shuffle(users)\n",
    "group_a, group_b = users[:len(users) // 2], users[len(users) // 2:]\n",
    "load_time_a=web_logs_hist[web_logs_hist['user_id'].isin(group_a)]['load_time'].values\n",
    "load_time_b=web_logs_hist[web_logs_hist['user_id'].isin(group_b)]['load_time'].values"
   ]
  },
  {
   "cell_type": "markdown",
   "id": "a94d2e85",
   "metadata": {},
   "source": [
    "Our goal will be to construct a $95\\%$ confidence interval for the $99.9%$ percentile difference.\n",
    "$$H_0: P_{B; 99.9} = P_{A; 99.9}$$\n",
    "$$H_1: P_{B; 99.9} \\neq P_{A; 99.9}$$\n",
    "First, let's implement a function with which we can get a point estimate"
   ]
  },
  {
   "cell_type": "code",
   "execution_count": 51,
   "id": "0e92b41e",
   "metadata": {},
   "outputs": [],
   "source": [
    "def get_point_estimate(a_group,b_group,quantile=0.999):\n",
    "    return np.quantile(b_group,quantile) - np.quantile(a_group,quantile)"
   ]
  },
  {
   "cell_type": "markdown",
   "id": "24c2f8a6",
   "metadata": {},
   "source": [
    "Let's run the usual bootstrap procedure, but taking into account that we have two samples. To do this, we will independently sample subsamples of the same size from the groups and calculate the bootstrap estimate. Let's repeat this procedure 1000 times."
   ]
  },
  {
   "cell_type": "code",
   "execution_count": 52,
   "id": "93efc55c",
   "metadata": {},
   "outputs": [
    {
     "name": "stdout",
     "output_type": "stream",
     "text": [
      "-108.90149999987307\n"
     ]
    }
   ],
   "source": [
    "point_estimate=get_point_estimate(load_time_a, load_time_b)\n",
    "print(point_estimate)"
   ]
  },
  {
   "cell_type": "code",
   "execution_count": 53,
   "id": "982dc5cd",
   "metadata": {},
   "outputs": [],
   "source": [
    "bs_point_estimates = []\n",
    "for _ in range(1000):\n",
    "    bs_a=np.random.choice(load_time_a,size=len(load_time_a),replace=True)\n",
    "    bs_b=np.random.choice(load_time_b,size=len(load_time_b),replace=True)\n",
    "    bs_point_estimate=get_point_estimate(bs_a, bs_b)\n",
    "    bs_point_estimates.append(bs_point_estimate)"
   ]
  },
  {
   "cell_type": "code",
   "execution_count": 54,
   "id": "57976a99",
   "metadata": {},
   "outputs": [
    {
     "name": "stdout",
     "output_type": "stream",
     "text": [
      "(-280.7299931076849, 62.926993107938785) (-282.4124074999948, 47.75602000067741) (-265.5590200004235, 64.60940750024866)\n"
     ]
    }
   ],
   "source": [
    "normal_ci=get_ci_bootstrap_normal(bs_point_estimates,point_estimate)\n",
    "percentile_ci=get_ci_bootstrap_percentile(bs_point_estimates,point_estimate)\n",
    "pivoval_ci=get_ci_bootstrap_pivotal(bs_point_estimates,point_estimate)\n",
    "\n",
    "print(normal_ci,percentile_ci,pivoval_ci )"
   ]
  },
  {
   "cell_type": "code",
   "execution_count": 55,
   "id": "809a36cc",
   "metadata": {},
   "outputs": [
    {
     "data": {
      "image/png": "[encoded data removed]",
      "text/plain": [
       "<Figure size 640x480 with 1 Axes>"
      ]
     },
     "metadata": {},
     "output_type": "display_data"
    }
   ],
   "source": [
    "plt.title('99.9% percentile difference')\n",
    "plt.hist(bs_point_estimates,bins=20)\n",
    "plt.vlines(normal_ci,0,100,label='normal ci', color='red')\n",
    "plt.vlines(percentile_ci,0,100,label='percentile ci', color='green')\n",
    "plt.vlines(pivoval_ci,0,100,label='pivotal ci', color='blue')\n",
    "plt.legend()\n",
    "plt.show()\n"
   ]
  },
  {
   "cell_type": "markdown",
   "id": "bba1c790",
   "metadata": {},
   "source": [
    "**Conclusion**: zero is inside the confidence interval, which means we cannot reject the null hypothesis that the 99.9 percentile is statistically significantly different."
   ]
  },
  {
   "cell_type": "markdown",
   "id": "0c2fef6c",
   "metadata": {},
   "source": [
    "### Experiment \n",
    "The experiment was conducted from 2022-04-05 to 2022-04-12. The measurements of request processing time are considered independent."
   ]
  },
  {
   "cell_type": "code",
   "execution_count": 56,
   "id": "5adf3b47",
   "metadata": {},
   "outputs": [
    {
     "data": {
      "text/html": [
       "<div>\n",
       "<style scoped>\n",
       "    .dataframe tbody tr th:only-of-type {\n",
       "        vertical-align: middle;\n",
       "    }\n",
       "\n",
       "    .dataframe tbody tr th {\n",
       "        vertical-align: top;\n",
       "    }\n",
       "\n",
       "    .dataframe thead th {\n",
       "        text-align: right;\n",
       "    }\n",
       "</style>\n",
       "<table border=\"1\" class=\"dataframe\">\n",
       "  <thead>\n",
       "    <tr style=\"text-align: right;\">\n",
       "      <th></th>\n",
       "      <th>user_id</th>\n",
       "      <th>page</th>\n",
       "      <th>date</th>\n",
       "      <th>load_time</th>\n",
       "    </tr>\n",
       "  </thead>\n",
       "  <tbody>\n",
       "    <tr>\n",
       "      <th>0</th>\n",
       "      <td>f25239</td>\n",
       "      <td>m</td>\n",
       "      <td>2022-02-03 23:45:37</td>\n",
       "      <td>80.8</td>\n",
       "    </tr>\n",
       "    <tr>\n",
       "      <th>1</th>\n",
       "      <td>06d6df</td>\n",
       "      <td>m</td>\n",
       "      <td>2022-02-03 23:49:56</td>\n",
       "      <td>70.5</td>\n",
       "    </tr>\n",
       "    <tr>\n",
       "      <th>2</th>\n",
       "      <td>06d6df</td>\n",
       "      <td>m</td>\n",
       "      <td>2022-02-03 23:51:16</td>\n",
       "      <td>89.7</td>\n",
       "    </tr>\n",
       "    <tr>\n",
       "      <th>3</th>\n",
       "      <td>f25239</td>\n",
       "      <td>m</td>\n",
       "      <td>2022-02-03 23:51:43</td>\n",
       "      <td>74.4</td>\n",
       "    </tr>\n",
       "    <tr>\n",
       "      <th>4</th>\n",
       "      <td>697870</td>\n",
       "      <td>m</td>\n",
       "      <td>2022-02-03 23:53:12</td>\n",
       "      <td>66.8</td>\n",
       "    </tr>\n",
       "  </tbody>\n",
       "</table>\n",
       "</div>"
      ],
      "text/plain": [
       "  user_id page                date  load_time\n",
       "0  f25239    m 2022-02-03 23:45:37       80.8\n",
       "1  06d6df    m 2022-02-03 23:49:56       70.5\n",
       "2  06d6df    m 2022-02-03 23:51:16       89.7\n",
       "3  f25239    m 2022-02-03 23:51:43       74.4\n",
       "4  697870    m 2022-02-03 23:53:12       66.8"
      ]
     },
     "execution_count": 56,
     "metadata": {},
     "output_type": "execute_result"
    }
   ],
   "source": [
    "URL_BASE = 'https://raw.githubusercontent.com/ab-courses/simulator-ab-datasets/main/2022-04-13/' \n",
    "\n",
    "web_logs=read_database('2022-04-13T12_df_web_logs.csv')\n",
    "web_logs['date']=pd.to_datetime(web_logs['date'])\n",
    "web_logs.head(5)\n"
   ]
  },
  {
   "cell_type": "code",
   "execution_count": 57,
   "id": "390e63e9",
   "metadata": {},
   "outputs": [
    {
     "data": {
      "text/html": [
       "<div>\n",
       "<style scoped>\n",
       "    .dataframe tbody tr th:only-of-type {\n",
       "        vertical-align: middle;\n",
       "    }\n",
       "\n",
       "    .dataframe tbody tr th {\n",
       "        vertical-align: top;\n",
       "    }\n",
       "\n",
       "    .dataframe thead th {\n",
       "        text-align: right;\n",
       "    }\n",
       "</style>\n",
       "<table border=\"1\" class=\"dataframe\">\n",
       "  <thead>\n",
       "    <tr style=\"text-align: right;\">\n",
       "      <th></th>\n",
       "      <th>user_id</th>\n",
       "      <th>pilot</th>\n",
       "    </tr>\n",
       "  </thead>\n",
       "  <tbody>\n",
       "    <tr>\n",
       "      <th>0</th>\n",
       "      <td>c36b2e</td>\n",
       "      <td>0</td>\n",
       "    </tr>\n",
       "    <tr>\n",
       "      <th>1</th>\n",
       "      <td>20336e</td>\n",
       "      <td>0</td>\n",
       "    </tr>\n",
       "    <tr>\n",
       "      <th>2</th>\n",
       "      <td>034652</td>\n",
       "      <td>0</td>\n",
       "    </tr>\n",
       "    <tr>\n",
       "      <th>3</th>\n",
       "      <td>e98e3b</td>\n",
       "      <td>0</td>\n",
       "    </tr>\n",
       "    <tr>\n",
       "      <th>4</th>\n",
       "      <td>3f1105</td>\n",
       "      <td>0</td>\n",
       "    </tr>\n",
       "  </tbody>\n",
       "</table>\n",
       "</div>"
      ],
      "text/plain": [
       "  user_id  pilot\n",
       "0  c36b2e      0\n",
       "1  20336e      0\n",
       "2  034652      0\n",
       "3  e98e3b      0\n",
       "4  3f1105      0"
      ]
     },
     "execution_count": 57,
     "metadata": {},
     "output_type": "execute_result"
    }
   ],
   "source": [
    "df_users=read_database('experiment_users.csv')\n",
    "df_users.head()"
   ]
  },
  {
   "cell_type": "code",
   "execution_count": null,
   "id": "7760b20f",
   "metadata": {},
   "outputs": [],
   "source": []
  },
  {
   "cell_type": "code",
   "execution_count": 58,
   "id": "68a87568",
   "metadata": {},
   "outputs": [
    {
     "data": {
      "text/html": [
       "<div>\n",
       "<style scoped>\n",
       "    .dataframe tbody tr th:only-of-type {\n",
       "        vertical-align: middle;\n",
       "    }\n",
       "\n",
       "    .dataframe tbody tr th {\n",
       "        vertical-align: top;\n",
       "    }\n",
       "\n",
       "    .dataframe thead th {\n",
       "        text-align: right;\n",
       "    }\n",
       "</style>\n",
       "<table border=\"1\" class=\"dataframe\">\n",
       "  <thead>\n",
       "    <tr style=\"text-align: right;\">\n",
       "      <th></th>\n",
       "      <th>pilot</th>\n",
       "      <th>load_time</th>\n",
       "    </tr>\n",
       "  </thead>\n",
       "  <tbody>\n",
       "    <tr>\n",
       "      <th>count</th>\n",
       "      <td>38936.000000</td>\n",
       "      <td>38936.000000</td>\n",
       "    </tr>\n",
       "    <tr>\n",
       "      <th>mean</th>\n",
       "      <td>0.505085</td>\n",
       "      <td>75.762854</td>\n",
       "    </tr>\n",
       "    <tr>\n",
       "      <th>std</th>\n",
       "      <td>0.499981</td>\n",
       "      <td>116.208595</td>\n",
       "    </tr>\n",
       "    <tr>\n",
       "      <th>min</th>\n",
       "      <td>0.000000</td>\n",
       "      <td>0.000000</td>\n",
       "    </tr>\n",
       "    <tr>\n",
       "      <th>25%</th>\n",
       "      <td>0.000000</td>\n",
       "      <td>65.100000</td>\n",
       "    </tr>\n",
       "    <tr>\n",
       "      <th>50%</th>\n",
       "      <td>1.000000</td>\n",
       "      <td>71.900000</td>\n",
       "    </tr>\n",
       "    <tr>\n",
       "      <th>75%</th>\n",
       "      <td>1.000000</td>\n",
       "      <td>78.400000</td>\n",
       "    </tr>\n",
       "    <tr>\n",
       "      <th>max</th>\n",
       "      <td>1.000000</td>\n",
       "      <td>4176.600000</td>\n",
       "    </tr>\n",
       "  </tbody>\n",
       "</table>\n",
       "</div>"
      ],
      "text/plain": [
       "              pilot     load_time\n",
       "count  38936.000000  38936.000000\n",
       "mean       0.505085     75.762854\n",
       "std        0.499981    116.208595\n",
       "min        0.000000      0.000000\n",
       "25%        0.000000     65.100000\n",
       "50%        1.000000     71.900000\n",
       "75%        1.000000     78.400000\n",
       "max        1.000000   4176.600000"
      ]
     },
     "execution_count": 58,
     "metadata": {},
     "output_type": "execute_result"
    }
   ],
   "source": [
    "begin_date=datetime(2022,4,5)\n",
    "end_date=datetime(2022,4,12)\n",
    "df_metrics=(\n",
    "    web_logs[\n",
    "        (web_logs['date']>=begin_date) &\n",
    "        (web_logs['date']< end_date)\n",
    "    ][['user_id','load_time']]\n",
    ")\n",
    "df= pd.merge(df_users,df_metrics, how='left',on='user_id')\n",
    "df.describe()"
   ]
  },
  {
   "cell_type": "code",
   "execution_count": 59,
   "id": "1e700ad5",
   "metadata": {},
   "outputs": [
    {
     "name": "stdout",
     "output_type": "stream",
     "text": [
      "q = 0.7, ci = [0.723, 1.277], is effect = True \n",
      "q = 0.74, ci = [0.301, 0.899], is effect = True \n",
      "q = 0.78, ci = [-0.295, 0.295], is effect = False \n",
      "q = 0.82, ci = [-1.016, -0.384], is effect = True \n",
      "q = 0.86, ci = [-1.553, -0.847], is effect = True \n",
      "q = 0.9, ci = [-2.475, -1.725], is effect = True \n",
      "q = 0.95, ci = [-3.892, -3.018], is effect = True \n",
      "q = 0.99, ci = [-7.314, -5.286], is effect = True \n",
      "q = 0.999, ci = [-1932.239, 1153.969], is effect = False \n",
      "q = 0.9999, ci = [-401.864, 465.289], is effect = False \n"
     ]
    }
   ],
   "source": [
    "B=1000 # number of bootstrap iterations\n",
    "alpha=0.05\n",
    "\n",
    "values_a=df[df['pilot']==0]['load_time'].values\n",
    "values_b=df[df['pilot']==1]['load_time'].values\n",
    "quantiles=np.array([0.7, 0.74, 0.78, 0.82, 0.86, 0.9, 0.95, 0.99, 0.999, 0.9999])\n",
    "for q in quantiles:\n",
    "    pe=np.quantile(values_b,q)-np.quantile(values_a,q)\n",
    "    bootstrap_values_a=np.random.choice(values_a,(B,len(values_a)),replace=True)\n",
    "    bootstrap_metrics_a=np.quantile(bootstrap_values_a,q,axis=1)\n",
    "    bootstrap_values_b=np.random.choice(values_b,(B, len(values_b)), replace=True)\n",
    "    bootstrap_metrics_b=np.quantile(bootstrap_values_b,q,axis=1)\n",
    "    bootstrap_stats=bootstrap_metrics_b-bootstrap_metrics_a\n",
    "    left,right=get_ci_bootstrap_normal(bootstrap_stats,pe,alpha=alpha)\n",
    "    print(f'q = {q}, ci = [{left:0.3f}, {right:0.3f}], is effect = {not(left < 0 < right)} ')\n",
    "\n"
   ]
  },
  {
   "cell_type": "code",
   "execution_count": 60,
   "id": "34843ae1",
   "metadata": {},
   "outputs": [],
   "source": [
    "def run_bootstrap(bootstrap_metrics, pe_metric, alpha, bootstrap_ci_type):\n",
    "    if bootstrap_ci_type == 'normal':\n",
    "        c = stats.norm.ppf(1 - alpha / 2) \n",
    "        se = np.std(bootstrap_metrics)\n",
    "        left, right = pe_metric - c * se, pe_metric + c * se\n",
    "    elif bootstrap_ci_type == 'percentile':\n",
    "        left, right = np.quantile(bootstrap_metrics, [alpha / 2, 1 - alpha / 2])\n",
    "    elif bootstrap_ci_type == 'pivotal':\n",
    "        q = np.quantile(bootstrap_metrics, [alpha / 2, 1 - alpha / 2])\n",
    "        right, left = 2 * pe_metric - q\n",
    "    else:\n",
    "        raise ValueError('False bootstrap_ci_type')\n",
    "    pvalue = float(left < 0 < right)\n",
    "    return (left, right,), pvalue"
   ]
  },
  {
   "cell_type": "markdown",
   "id": "7fa09b86",
   "metadata": {},
   "source": [
    "## Variance reduction"
   ]
  },
  {
   "cell_type": "code",
   "execution_count": 61,
   "id": "e45b47fa",
   "metadata": {},
   "outputs": [],
   "source": [
    "URL_BASE = 'https://raw.githubusercontent.com/ab-courses/simulator-ab-datasets/main/2022-04-01/'\n",
    "\n",
    "def read_database(file_name):\n",
    "    return pd.read_csv(os.path.join(URL_BASE, file_name))"
   ]
  },
  {
   "cell_type": "code",
   "execution_count": 62,
   "id": "c53cf815",
   "metadata": {},
   "outputs": [
    {
     "data": {
      "text/html": [
       "<div>\n",
       "<style scoped>\n",
       "    .dataframe tbody tr th:only-of-type {\n",
       "        vertical-align: middle;\n",
       "    }\n",
       "\n",
       "    .dataframe tbody tr th {\n",
       "        vertical-align: top;\n",
       "    }\n",
       "\n",
       "    .dataframe thead th {\n",
       "        text-align: right;\n",
       "    }\n",
       "</style>\n",
       "<table border=\"1\" class=\"dataframe\">\n",
       "  <thead>\n",
       "    <tr style=\"text-align: right;\">\n",
       "      <th></th>\n",
       "      <th>user_id</th>\n",
       "      <th>page</th>\n",
       "      <th>date</th>\n",
       "      <th>load_time</th>\n",
       "    </tr>\n",
       "  </thead>\n",
       "  <tbody>\n",
       "    <tr>\n",
       "      <th>0</th>\n",
       "      <td>f25239</td>\n",
       "      <td>m</td>\n",
       "      <td>2022-02-03 23:45:37</td>\n",
       "      <td>80.8</td>\n",
       "    </tr>\n",
       "    <tr>\n",
       "      <th>1</th>\n",
       "      <td>06d6df</td>\n",
       "      <td>m</td>\n",
       "      <td>2022-02-03 23:49:56</td>\n",
       "      <td>70.5</td>\n",
       "    </tr>\n",
       "    <tr>\n",
       "      <th>2</th>\n",
       "      <td>06d6df</td>\n",
       "      <td>m</td>\n",
       "      <td>2022-02-03 23:51:16</td>\n",
       "      <td>89.7</td>\n",
       "    </tr>\n",
       "    <tr>\n",
       "      <th>3</th>\n",
       "      <td>f25239</td>\n",
       "      <td>m</td>\n",
       "      <td>2022-02-03 23:51:43</td>\n",
       "      <td>74.4</td>\n",
       "    </tr>\n",
       "    <tr>\n",
       "      <th>4</th>\n",
       "      <td>697870</td>\n",
       "      <td>m</td>\n",
       "      <td>2022-02-03 23:53:12</td>\n",
       "      <td>66.8</td>\n",
       "    </tr>\n",
       "  </tbody>\n",
       "</table>\n",
       "</div>"
      ],
      "text/plain": [
       "  user_id page                date  load_time\n",
       "0  f25239    m 2022-02-03 23:45:37       80.8\n",
       "1  06d6df    m 2022-02-03 23:49:56       70.5\n",
       "2  06d6df    m 2022-02-03 23:51:16       89.7\n",
       "3  f25239    m 2022-02-03 23:51:43       74.4\n",
       "4  697870    m 2022-02-03 23:53:12       66.8"
      ]
     },
     "execution_count": 62,
     "metadata": {},
     "output_type": "execute_result"
    }
   ],
   "source": [
    "web_logs = read_database('2022-04-01T12_df_web_logs.csv')\n",
    "web_logs['date']=pd.to_datetime(web_logs['date'])\n",
    "web_logs.head(5)"
   ]
  },
  {
   "cell_type": "code",
   "execution_count": 63,
   "id": "c29464bf",
   "metadata": {},
   "outputs": [
    {
     "data": {
      "text/html": [
       "<div>\n",
       "<style scoped>\n",
       "    .dataframe tbody tr th:only-of-type {\n",
       "        vertical-align: middle;\n",
       "    }\n",
       "\n",
       "    .dataframe tbody tr th {\n",
       "        vertical-align: top;\n",
       "    }\n",
       "\n",
       "    .dataframe thead th {\n",
       "        text-align: right;\n",
       "    }\n",
       "</style>\n",
       "<table border=\"1\" class=\"dataframe\">\n",
       "  <thead>\n",
       "    <tr style=\"text-align: right;\">\n",
       "      <th></th>\n",
       "      <th>load_time</th>\n",
       "    </tr>\n",
       "  </thead>\n",
       "  <tbody>\n",
       "    <tr>\n",
       "      <th>count</th>\n",
       "      <td>1.964507e+06</td>\n",
       "    </tr>\n",
       "    <tr>\n",
       "      <th>mean</th>\n",
       "      <td>7.396452e+01</td>\n",
       "    </tr>\n",
       "    <tr>\n",
       "      <th>std</th>\n",
       "      <td>1.107026e+02</td>\n",
       "    </tr>\n",
       "    <tr>\n",
       "      <th>min</th>\n",
       "      <td>0.000000e+00</td>\n",
       "    </tr>\n",
       "    <tr>\n",
       "      <th>25%</th>\n",
       "      <td>6.180000e+01</td>\n",
       "    </tr>\n",
       "    <tr>\n",
       "      <th>50%</th>\n",
       "      <td>7.000000e+01</td>\n",
       "    </tr>\n",
       "    <tr>\n",
       "      <th>75%</th>\n",
       "      <td>7.810000e+01</td>\n",
       "    </tr>\n",
       "    <tr>\n",
       "      <th>max</th>\n",
       "      <td>4.197500e+03</td>\n",
       "    </tr>\n",
       "  </tbody>\n",
       "</table>\n",
       "</div>"
      ],
      "text/plain": [
       "          load_time\n",
       "count  1.964507e+06\n",
       "mean   7.396452e+01\n",
       "std    1.107026e+02\n",
       "min    0.000000e+00\n",
       "25%    6.180000e+01\n",
       "50%    7.000000e+01\n",
       "75%    7.810000e+01\n",
       "max    4.197500e+03"
      ]
     },
     "execution_count": 63,
     "metadata": {},
     "output_type": "execute_result"
    }
   ],
   "source": [
    "web_logs.describe()"
   ]
  },
  {
   "cell_type": "code",
   "execution_count": 64,
   "id": "f8cb84a4",
   "metadata": {},
   "outputs": [
    {
     "data": {
      "text/plain": [
       "(247163, 4)"
      ]
     },
     "execution_count": 64,
     "metadata": {},
     "output_type": "execute_result"
    }
   ],
   "source": [
    "web_logs_hist = web_logs[\n",
    "    (web_logs['date'] >= datetime(2022, 3, 22))\n",
    "    & (web_logs['date'] < datetime(2022, 3, 29))\n",
    "]\n",
    "web_logs_hist.shape"
   ]
  },
  {
   "cell_type": "code",
   "execution_count": 65,
   "id": "27fd8c13",
   "metadata": {},
   "outputs": [
    {
     "name": "stdout",
     "output_type": "stream",
     "text": [
      "variance is 12447.803325889645\n"
     ]
    }
   ],
   "source": [
    "alpha = 0.05\n",
    "beta = 0.2\n",
    "\n",
    "mean = web_logs_hist['load_time'].mean()\n",
    "std = web_logs_hist['load_time'].std()\n",
    "\n",
    "eff = mean * 0.01\n",
    "print(f\"variance is {std ** 2}\")"
   ]
  },
  {
   "cell_type": "code",
   "execution_count": 66,
   "id": "79da9026",
   "metadata": {},
   "outputs": [
    {
     "name": "stdout",
     "output_type": "stream",
     "text": [
      "sample_size = 355889\n"
     ]
    }
   ],
   "source": [
    "sample_size = get_sample_size_abs(eff, std, alpha=alpha, beta=beta)\n",
    "print(f'sample_size = {sample_size}')"
   ]
  },
  {
   "cell_type": "code",
   "execution_count": 67,
   "id": "90e25745",
   "metadata": {},
   "outputs": [
    {
     "data": {
      "text/plain": [
       "<AxesSubplot:>"
      ]
     },
     "execution_count": 67,
     "metadata": {},
     "output_type": "execute_result"
    },
    {
     "data": {
      "image/png": "[encoded data removed]",
      "text/plain": [
       "<Figure size 640x480 with 1 Axes>"
      ]
     },
     "metadata": {},
     "output_type": "display_data"
    }
   ],
   "source": [
    "web_logs_hist['load_time'].hist()"
   ]
  },
  {
   "cell_type": "code",
   "execution_count": 68,
   "id": "a9683f9c",
   "metadata": {},
   "outputs": [
    {
     "data": {
      "text/plain": [
       "<AxesSubplot:>"
      ]
     },
     "execution_count": 68,
     "metadata": {},
     "output_type": "execute_result"
    },
    {
     "data": {
      "image/png": "[encoded data removed]",
      "text/plain": [
       "<Figure size 640x480 with 1 Axes>"
      ]
     },
     "metadata": {},
     "output_type": "display_data"
    }
   ],
   "source": [
    "# without outliers\n",
    "web_logs_filtered=web_logs_hist[web_logs_hist['load_time']<1000]\n",
    "web_logs_filtered['load_time'].hist()\n"
   ]
  },
  {
   "cell_type": "code",
   "execution_count": 69,
   "id": "fb8dcbba",
   "metadata": {},
   "outputs": [
    {
     "name": "stdout",
     "output_type": "stream",
     "text": [
      "var is 162.09072353491075\n"
     ]
    }
   ],
   "source": [
    "std = web_logs_filtered['load_time'].std()\n",
    "print(f\"var is {std ** 2}\")"
   ]
  },
  {
   "cell_type": "code",
   "execution_count": 70,
   "id": "25371efd",
   "metadata": {},
   "outputs": [
    {
     "name": "stdout",
     "output_type": "stream",
     "text": [
      "sample_size = 4635\n"
     ]
    }
   ],
   "source": [
    "sample_size=get_sample_size_abs(eff,std,alpha=alpha,beta=beta)\n",
    "print(f'sample_size = {sample_size}')"
   ]
  },
  {
   "cell_type": "markdown",
   "id": "3713cc3f",
   "metadata": {},
   "source": [
    "The variance dropped by a factor of more than 76, causing the required sample size to drop by a factor of 76."
   ]
  },
  {
   "cell_type": "markdown",
   "id": "06ef2327",
   "metadata": {},
   "source": [
    "### Experiment  (Synthetic data)"
   ]
  },
  {
   "cell_type": "markdown",
   "id": "d443f1b0",
   "metadata": {},
   "source": [
    "Power of tests depending on the proportion of data to be deleted."
   ]
  },
  {
   "cell_type": "code",
   "execution_count": 71,
   "id": "3bcce6cd",
   "metadata": {},
   "outputs": [
    {
     "name": "stdout",
     "output_type": "stream",
     "text": [
      "idx=5 quantile=0.1, power=0.970\n",
      "idx=4 quantile=0.05, power=0.960, pvalue=0.0001, the estimate of statistic power is significantly different from the previous\n",
      "idx=3 quantile=0.01, power=0.937, pvalue=0.0000, the estimate of statistic power is significantly different from the previous\n",
      "idx=2 quantile=0.001, power=0.336, pvalue=0.0000, the estimate of statistic power is significantly different from the previous\n",
      "idx=1 quantile=0.0001, power=0.089, pvalue=0.0000, the estimate of statistic power is significantly different from the previous\n",
      "answer: 54321\n"
     ]
    }
   ],
   "source": [
    "\n",
    "df_web_logs = read_database('2022-04-01T12_df_web_logs.csv')\n",
    "df_web_logs['date'] = pd.to_datetime(df_web_logs['date'])\n",
    "\n",
    "begin_date = datetime(2022, 3, 1)\n",
    "end_date = datetime(2022, 3, 8)\n",
    "df_metrics = (\n",
    "    df_web_logs\n",
    "    [(df_web_logs['date'] >= begin_date) & (df_web_logs['date'] < end_date)]\n",
    "    [['user_id', 'load_time']]\n",
    ")\n",
    "users = df_metrics['user_id'].unique()\n",
    "\n",
    "sample_size = 1000 # 1000 users\n",
    "effect = 0.01 # 1% effect\n",
    "alpha = 0.05\n",
    "quantiles = (0.0001, 0.001, 0.01, 0.05, 0.1,)\n",
    "quantile2errors = {q: [] for q in quantiles}\n",
    "\n",
    "for _ in range(10000):\n",
    "    a_users, b_users = np.random.choice(users, (2, sample_size,), False)\n",
    "    a_values = df_metrics.loc[df_metrics['user_id'].isin(a_users), 'load_time'].values\n",
    "    b_values = (\n",
    "        df_metrics.loc[df_metrics['user_id'].isin(b_users), 'load_time'].values\n",
    "        * (1 + effect) # adding a synthetic effect to historical data\n",
    "\n",
    "\n",
    "    ) #Remove 2% of the outliers means removing 1% each of the minimum and maximum sample values. \n",
    "#That is, leave the values that lie between np.quantile(values, 0.01) and np.quantile(values, 0.99).\n",
    "    for q in quantiles:\n",
    "        a_values_filtered = a_values[\n",
    "            (a_values > np.quantile(a_values, q))\n",
    "            & (a_values < np.quantile(a_values, 1-q))\n",
    "        ]\n",
    "        b_values_filtered = b_values[\n",
    "            (b_values > np.quantile(b_values, q))\n",
    "            & (b_values < np.quantile(b_values, 1-q))\n",
    "        ]\n",
    "        pvalue = stats.ttest_ind(a_values_filtered, b_values_filtered).pvalue\n",
    "        quantile2errors[q].append(pvalue > alpha)\n",
    "\n",
    "def process_results(quantile2errors):\n",
    "    \"\"\"Process the data and output the result\"\"\"\n",
    "    # list of elements: variant number, quantile, error rate, error list)\n",
    "    data = [\n",
    "        (idx+1, quantile, np.mean(errors), errors,)\n",
    "        for idx, (quantile, errors) in enumerate(quantile2errors.items())\n",
    "    ]\n",
    "    # sort by error rate\n",
    "    data.sort(key=lambda x: x[2])\n",
    "\n",
    "     # check that the power estimates are meaningfully different from each other\n",
    "    print(f'idx={data[0][0]} quantile={data[0][1]}, power={1-data[0][2]:0.3f}')\n",
    "    for i in range(1, len(data)):\n",
    "        pvalue = stats.ttest_ind(data[i][3], data[i-1][3]).pvalue\n",
    "        if pvalue < 0.05:\n",
    "            msg = f'pvalue={pvalue:0.4f}, the estimate of statistic power is significantly different from the previous'\n",
    "        else:\n",
    "            msg = f'pvalue={pvalue:0.4f}, the estimate of statistic power is not significantly different from the previous'\n",
    "        print(f'idx={data[i][0]} quantile={data[i][1]}, power={1-data[i][2]:0.3f}, {msg}')\n",
    "    print('answer:', ''.join([str(x[0]) for x in data]))\n",
    "\n",
    "process_results(quantile2errors)"
   ]
  },
  {
   "cell_type": "code",
   "execution_count": 72,
   "id": "6ef1f8f4",
   "metadata": {},
   "outputs": [],
   "source": [
    "def process_outliers(metrics, bounds, outlier_process_type):\n",
    "    lower_bound, upper_bound = bounds\n",
    "    metrics = metrics.copy()\n",
    "    if outlier_process_type == 'drop':\n",
    "        metrics = metrics[(metrics['metric'] >= lower_bound) & (metrics['metric'] <= upper_bound)]\n",
    "    elif outlier_process_type == 'clip':\n",
    "        metrics.loc[metrics['metric'] < lower_bound, 'metric'] = lower_bound\n",
    "        metrics.loc[metrics['metric'] > upper_bound, 'metric'] = upper_bound\n",
    "    else:\n",
    "        raise ValueError('Invalid value of outlier_process_type')\n",
    "    return metrics"
   ]
  },
  {
   "cell_type": "code",
   "execution_count": null,
   "id": "4be3b057",
   "metadata": {},
   "outputs": [],
   "source": []
  },
  {
   "cell_type": "markdown",
   "id": "f733730a",
   "metadata": {},
   "source": [
    "### KPI choise "
   ]
  },
  {
   "cell_type": "code",
   "execution_count": 75,
   "id": "d9b24a10",
   "metadata": {},
   "outputs": [
    {
     "name": "stdout",
     "output_type": "stream",
     "text": [
      "0     90\n",
      "1    600\n",
      "2    500\n",
      "dtype: int64\n"
     ]
    }
   ],
   "source": [
    "df = pd.DataFrame({\n",
    "    'revenue': [1500, 1800, 2100],\n",
    "    'cost_price': [1300, 1200, 1600],\n",
    "    'support': [1, 0, 0],\n",
    "})\n",
    "support_cost = 110\n",
    "\n",
    "# metric = pd.Series([90, 600, 500])\n",
    "def get_metric(df, support_cost):\n",
    "    profit = df['revenue'] - df['cost_price'] - (df['support'] * support_cost)\n",
    "    return profit\n",
    "\n",
    "metric = get_metric(df, support_cost)\n",
    "print(metric)"
   ]
  },
  {
   "cell_type": "code",
   "execution_count": 76,
   "id": "ae8a6059",
   "metadata": {},
   "outputs": [
    {
     "name": "stdout",
     "output_type": "stream",
     "text": [
      "support_cost=316 delta=19.5, pvalue=0.0484\n",
      "support_cost=317 delta=19.4, pvalue=0.0499\n",
      "support_cost=318 delta=19.3, pvalue=0.0515\n"
     ]
    }
   ],
   "source": [
    "sample_size = 1000\n",
    "df_control = pd.DataFrame({\n",
    "    'revenue': [int(np.sin(x / 12) * 600 + 1200) for x in range(sample_size)],\n",
    "    'cost_price': [int(np.sin(x / 12) * 400 + 700) for x in range(sample_size)],\n",
    "    'support': (np.arange(sample_size) < sample_size - 400).astype(int),\n",
    "})\n",
    "df_pilot = pd.DataFrame({\n",
    "    'revenue': [int(np.sin(x / 11 + 1) * 650 + 1250) for x in range(sample_size)],\n",
    "    'cost_price': [int(np.sin(x / 11 + 1) * 400 + 700) for x in range(sample_size)],\n",
    "    'support': (np.arange(sample_size) < sample_size - 300).astype(int),\n",
    "})\n",
    "def get_metric(df, support_cost):\n",
    "    return df['revenue'] - df['cost_price'] - support_cost * df['support']\n",
    "\n",
    "for support_cost in range(316, 319):\n",
    "    control_metric = get_metric(df_control, support_cost)\n",
    "    pilot_metric = get_metric(df_pilot, support_cost)\n",
    "    delta = pilot_metric.mean() - control_metric.mean()\n",
    "    pvalue = ttest_ind(control_metric, pilot_metric).pvalue\n",
    "    print(f'support_cost={support_cost} delta={delta:0.1f}, pvalue={pvalue:0.4f}')"
   ]
  },
  {
   "cell_type": "markdown",
   "id": "e7c2bbf8",
   "metadata": {},
   "source": [
    "### Stratification"
   ]
  },
  {
   "cell_type": "code",
   "execution_count": 87,
   "id": "3bc84a87",
   "metadata": {},
   "outputs": [],
   "source": [
    "from tqdm.notebook import tqdm"
   ]
  },
  {
   "cell_type": "code",
   "execution_count": null,
   "id": "f06d5950",
   "metadata": {},
   "outputs": [],
   "source": []
  },
  {
   "cell_type": "code",
   "execution_count": 89,
   "id": "6d8e4603",
   "metadata": {},
   "outputs": [],
   "source": [
    "def calculate_mean(df):\n",
    "    \"\"\"Calculates the normal average of the ‘metric’ column.\"\"\"\n",
    "    return df['metric'].mean()\n",
    "\n",
    "\n",
    "def calculate_stratified_mean(df, weights):\n",
    "    \"\"\"Calculates the stratified average.\n",
    "\n",
    "    df - dataframe with target metric and data for stratification\n",
    "    weights - dictionary - {stratum name: stratum weight}\n",
    "\n",
    "    return: float, mean_strat\n",
    "    \"\"\"\n",
    "    strat_mean = df.groupby('strat')['metric'].mean()\n",
    "    df_means_weights = pd.merge(\n",
    "        strat_mean,\n",
    "        pd.Series(weights, name='weight'),\n",
    "        how='inner',\n",
    "        left_index=True,\n",
    "        right_index=True\n",
    "    )\n",
    "    # ! if there were no strats in the df data, then some of the weights will be erased and the sum of weights will be less than 1\n",
    "    df_means_weights['weight'] = df_means_weights['weight'] / df_means_weights['weight'].sum()\n",
    "    mean_strat = (df_means_weights['weight'] * df_means_weights['metric']).sum()\n",
    "    return mean_strat\n",
    "\n",
    "\n",
    "def check_test(df_control, df_pilot):\n",
    "    \"\"\"Проверяет гипотезу о равенстве средних для обычного среднего.\n",
    "    \n",
    "    return - pvalue.\n",
    "    \"\"\"\n",
    "    values_control = df_control['metric'].values\n",
    "    values_pilot = df_pilot['metric'].values\n",
    "    _, pvalue = stats.ttest_ind(values_control, values_pilot)\n",
    "    return pvalue\n",
    "\n",
    "def calculate_strat_var(df, weights):\n",
    "    \"\"\"Calculates the stratified variance.\"\"\"\n",
    "    strat_vars = df.groupby('strat')['metric'].var()\n",
    "    df_vars_weights = pd.merge(\n",
    "        strat_vars,\n",
    "        pd.Series(weights, name='weight'),\n",
    "        how='inner',\n",
    "        left_index=True,\n",
    "        right_index=True\n",
    "    )\n",
    "    # ! if there were no strats in the df data, then some of the weights will be erased and the sum of weights will be less than 1\n",
    "    df_vars_weights['weight'] = df_vars_weights['weight'] / df_vars_weights['weight'].sum()\n",
    "    var_strat = (df_vars_weights['weight'] * df_vars_weights['metric']).sum()\n",
    "    return var_strat\n",
    "\n",
    "def check_stratified_test(df_control, df_pilot, weights):\n",
    "    \"\"\"Checks the hypothesis of equality of means for the stratified mean.\n",
    "\n",
    "    return - pvalue.\n",
    "    \"\"\"\n",
    "    mean_strat_control = calculate_stratified_mean(df_control, weights)\n",
    "    mean_strat_pilot = calculate_stratified_mean(df_pilot, weights)\n",
    "    var_strat_control = calculate_strat_var(df_control, weights)\n",
    "    var_strat_pilot = calculate_strat_var(df_pilot, weights)\n",
    "    delta_mean_strat = mean_strat_pilot - mean_strat_control\n",
    "    std_mean_strat = (var_strat_pilot / len(df_pilot) + var_strat_control / len(df_control)) ** 0.5\n",
    "    t = delta_mean_strat / std_mean_strat\n",
    "    pvalue = (1 - stats.norm.cdf(np.abs(t))) * 2\n",
    "    return pvalue\n"
   ]
  },
  {
   "cell_type": "code",
   "execution_count": 79,
   "id": "9364e906",
   "metadata": {},
   "outputs": [],
   "source": [
    "URL_BASE = 'https://raw.githubusercontent.com/ab-courses/simulator-ab-datasets/main/'\n",
    "\n",
    "def read_database(file_name):\n",
    "    return pd.read_csv(os.path.join(URL_BASE, file_name))\n",
    "\n",
    "df_sales = read_database('2022-04-01/2022-04-01T12_df_sales.csv')\n",
    "df_sales['date'] = pd.to_datetime(df_sales['date'])\n",
    "df_user_strats = read_database('user_strats.csv')"
   ]
  },
  {
   "cell_type": "code",
   "execution_count": 80,
   "id": "625b9e14",
   "metadata": {},
   "outputs": [
    {
     "data": {
      "text/html": [
       "<div>\n",
       "<style scoped>\n",
       "    .dataframe tbody tr th:only-of-type {\n",
       "        vertical-align: middle;\n",
       "    }\n",
       "\n",
       "    .dataframe tbody tr th {\n",
       "        vertical-align: top;\n",
       "    }\n",
       "\n",
       "    .dataframe thead th {\n",
       "        text-align: right;\n",
       "    }\n",
       "</style>\n",
       "<table border=\"1\" class=\"dataframe\">\n",
       "  <thead>\n",
       "    <tr style=\"text-align: right;\">\n",
       "      <th></th>\n",
       "      <th>sale_id</th>\n",
       "      <th>date</th>\n",
       "      <th>count_pizza</th>\n",
       "      <th>count_drink</th>\n",
       "      <th>price</th>\n",
       "      <th>user_id</th>\n",
       "    </tr>\n",
       "  </thead>\n",
       "  <tbody>\n",
       "    <tr>\n",
       "      <th>0</th>\n",
       "      <td>1000001</td>\n",
       "      <td>2022-02-04 10:00:24</td>\n",
       "      <td>1</td>\n",
       "      <td>0</td>\n",
       "      <td>720</td>\n",
       "      <td>1c1543</td>\n",
       "    </tr>\n",
       "    <tr>\n",
       "      <th>1</th>\n",
       "      <td>1000002</td>\n",
       "      <td>2022-02-04 10:02:28</td>\n",
       "      <td>1</td>\n",
       "      <td>1</td>\n",
       "      <td>930</td>\n",
       "      <td>a9a6e8</td>\n",
       "    </tr>\n",
       "    <tr>\n",
       "      <th>2</th>\n",
       "      <td>1000003</td>\n",
       "      <td>2022-02-04 10:02:35</td>\n",
       "      <td>3</td>\n",
       "      <td>1</td>\n",
       "      <td>1980</td>\n",
       "      <td>23420a</td>\n",
       "    </tr>\n",
       "    <tr>\n",
       "      <th>3</th>\n",
       "      <td>1000004</td>\n",
       "      <td>2022-02-04 10:03:06</td>\n",
       "      <td>1</td>\n",
       "      <td>1</td>\n",
       "      <td>750</td>\n",
       "      <td>3e8ed5</td>\n",
       "    </tr>\n",
       "    <tr>\n",
       "      <th>4</th>\n",
       "      <td>1000005</td>\n",
       "      <td>2022-02-04 10:03:23</td>\n",
       "      <td>1</td>\n",
       "      <td>1</td>\n",
       "      <td>870</td>\n",
       "      <td>cbc468</td>\n",
       "    </tr>\n",
       "  </tbody>\n",
       "</table>\n",
       "</div>"
      ],
      "text/plain": [
       "   sale_id                date  count_pizza  count_drink  price user_id\n",
       "0  1000001 2022-02-04 10:00:24            1            0    720  1c1543\n",
       "1  1000002 2022-02-04 10:02:28            1            1    930  a9a6e8\n",
       "2  1000003 2022-02-04 10:02:35            3            1   1980  23420a\n",
       "3  1000004 2022-02-04 10:03:06            1            1    750  3e8ed5\n",
       "4  1000005 2022-02-04 10:03:23            1            1    870  cbc468"
      ]
     },
     "execution_count": 80,
     "metadata": {},
     "output_type": "execute_result"
    }
   ],
   "source": [
    "df_sales.head()"
   ]
  },
  {
   "cell_type": "code",
   "execution_count": 81,
   "id": "fb27aa76",
   "metadata": {},
   "outputs": [
    {
     "data": {
      "text/html": [
       "<div>\n",
       "<style scoped>\n",
       "    .dataframe tbody tr th:only-of-type {\n",
       "        vertical-align: middle;\n",
       "    }\n",
       "\n",
       "    .dataframe tbody tr th {\n",
       "        vertical-align: top;\n",
       "    }\n",
       "\n",
       "    .dataframe thead th {\n",
       "        text-align: right;\n",
       "    }\n",
       "</style>\n",
       "<table border=\"1\" class=\"dataframe\">\n",
       "  <thead>\n",
       "    <tr style=\"text-align: right;\">\n",
       "      <th></th>\n",
       "      <th>user_id</th>\n",
       "      <th>strat</th>\n",
       "    </tr>\n",
       "  </thead>\n",
       "  <tbody>\n",
       "    <tr>\n",
       "      <th>0</th>\n",
       "      <td>000096</td>\n",
       "      <td>1</td>\n",
       "    </tr>\n",
       "    <tr>\n",
       "      <th>1</th>\n",
       "      <td>0000d4</td>\n",
       "      <td>1</td>\n",
       "    </tr>\n",
       "    <tr>\n",
       "      <th>2</th>\n",
       "      <td>0000de</td>\n",
       "      <td>1</td>\n",
       "    </tr>\n",
       "    <tr>\n",
       "      <th>3</th>\n",
       "      <td>0000e4</td>\n",
       "      <td>1</td>\n",
       "    </tr>\n",
       "    <tr>\n",
       "      <th>4</th>\n",
       "      <td>0000e7</td>\n",
       "      <td>1</td>\n",
       "    </tr>\n",
       "  </tbody>\n",
       "</table>\n",
       "</div>"
      ],
      "text/plain": [
       "  user_id  strat\n",
       "0  000096      1\n",
       "1  0000d4      1\n",
       "2  0000de      1\n",
       "3  0000e4      1\n",
       "4  0000e7      1"
      ]
     },
     "execution_count": 81,
     "metadata": {},
     "output_type": "execute_result"
    }
   ],
   "source": [
    "df_user_strats.head()"
   ]
  },
  {
   "cell_type": "code",
   "execution_count": 84,
   "id": "d7501981",
   "metadata": {},
   "outputs": [
    {
     "data": {
      "text/plain": [
       "1    58285\n",
       "3    53518\n",
       "2    11644\n",
       "Name: strat, dtype: int64"
      ]
     },
     "execution_count": 84,
     "metadata": {},
     "output_type": "execute_result"
    }
   ],
   "source": [
    "df_user_strats['strat'].value_counts()"
   ]
  },
  {
   "cell_type": "code",
   "execution_count": 85,
   "id": "d528d574",
   "metadata": {},
   "outputs": [
    {
     "data": {
      "text/html": [
       "<div>\n",
       "<style scoped>\n",
       "    .dataframe tbody tr th:only-of-type {\n",
       "        vertical-align: middle;\n",
       "    }\n",
       "\n",
       "    .dataframe tbody tr th {\n",
       "        vertical-align: top;\n",
       "    }\n",
       "\n",
       "    .dataframe thead th {\n",
       "        text-align: right;\n",
       "    }\n",
       "</style>\n",
       "<table border=\"1\" class=\"dataframe\">\n",
       "  <thead>\n",
       "    <tr style=\"text-align: right;\">\n",
       "      <th></th>\n",
       "      <th>user_id</th>\n",
       "      <th>metric</th>\n",
       "      <th>strat</th>\n",
       "    </tr>\n",
       "  </thead>\n",
       "  <tbody>\n",
       "    <tr>\n",
       "      <th>0</th>\n",
       "      <td>0000d4</td>\n",
       "      <td>720</td>\n",
       "      <td>1</td>\n",
       "    </tr>\n",
       "    <tr>\n",
       "      <th>1</th>\n",
       "      <td>0000de</td>\n",
       "      <td>660</td>\n",
       "      <td>1</td>\n",
       "    </tr>\n",
       "    <tr>\n",
       "      <th>2</th>\n",
       "      <td>0000e4</td>\n",
       "      <td>840</td>\n",
       "      <td>1</td>\n",
       "    </tr>\n",
       "    <tr>\n",
       "      <th>3</th>\n",
       "      <td>0001e2</td>\n",
       "      <td>2430</td>\n",
       "      <td>1</td>\n",
       "    </tr>\n",
       "    <tr>\n",
       "      <th>4</th>\n",
       "      <td>0001ff</td>\n",
       "      <td>720</td>\n",
       "      <td>1</td>\n",
       "    </tr>\n",
       "  </tbody>\n",
       "</table>\n",
       "</div>"
      ],
      "text/plain": [
       "  user_id  metric  strat\n",
       "0  0000d4     720      1\n",
       "1  0000de     660      1\n",
       "2  0000e4     840      1\n",
       "3  0001e2    2430      1\n",
       "4  0001ff     720      1"
      ]
     },
     "execution_count": 85,
     "metadata": {},
     "output_type": "execute_result"
    }
   ],
   "source": [
    "begin_date = datetime(2022, 3, 23)\n",
    "end_date = datetime(2022, 3, 30)\n",
    "df_metrics=(\n",
    "    df_sales[(df_sales['date']>=begin_date) & (df_sales['date']<=end_date)]\n",
    "    .groupby('user_id')[['price']].sum()\n",
    "    .rename(columns={'price':'metric'})\n",
    "    .reset_index()\n",
    ")\n",
    "df_metrics=pd.merge(df_metrics, df_user_strats, how='left', on='user_id')\n",
    "df_metrics.head()"
   ]
  },
  {
   "cell_type": "code",
   "execution_count": 86,
   "id": "32567126",
   "metadata": {},
   "outputs": [
    {
     "data": {
      "text/plain": [
       "strat\n",
       "1    1221.697525\n",
       "2    1251.554174\n",
       "3    1227.406882\n",
       "Name: metric, dtype: float64"
      ]
     },
     "execution_count": 86,
     "metadata": {},
     "output_type": "execute_result"
    }
   ],
   "source": [
    "df_metrics.groupby('strat')['metric'].mean()"
   ]
  },
  {
   "cell_type": "code",
   "execution_count": 90,
   "id": "2420b561",
   "metadata": {},
   "outputs": [
    {
     "data": {
      "application/vnd.jupyter.widget-view+json": {
       "model_id": "cf4855298da64c4581e4b34091407497",
       "version_major": 2,
       "version_minor": 0
      },
      "text/plain": [
       "  0%|          | 0/1000 [00:00<?, ?it/s]"
      ]
     },
     "metadata": {},
     "output_type": "display_data"
    },
    {
     "data": {
      "image/png": "[encoded data removed]",
      "text/plain": [
       "<Figure size 640x480 with 1 Axes>"
      ]
     },
     "metadata": {},
     "output_type": "display_data"
    }
   ],
   "source": [
    "# Poststratification \n",
    "sample_size = 1000\n",
    "weights = df_user_strats['strat'].value_counts(normalize=True).to_dict()\n",
    "effect = 0\n",
    "\n",
    "pvalues_random =[]\n",
    "pvalues_poststratified =[]\n",
    "\n",
    "for _ in tqdm (range(1000)):\n",
    "    control_users, pilot_users = np.random.choice(df_metrics['user_id'].values, (2, sample_size,), False)\n",
    "    df_control = df_metrics[df_metrics['user_id'].isin(control_users)].copy()\n",
    "    df_pilot = df_metrics[df_metrics['user_id'].isin(pilot_users)].copy()\n",
    "    df_pilot['metric'] += effect\n",
    "    pvalues_random.append(check_test(df_control, df_pilot))\n",
    "    pvalues_poststratified.append(check_stratified_test(df_control, df_pilot, weights))\n",
    "\n",
    "\n",
    "list_pvalues = [pvalues_random, pvalues_poststratified]\n",
    "list_titles = ['unstratified', 'post-stratification']\n",
    "\n",
    "X = np.linspace(0, 1, 1000)\n",
    "for pvalues, title in zip(reversed(list_pvalues), reversed(list_titles)):\n",
    "    pvalues = np.array(pvalues)\n",
    "    Y = [np.mean(pvalues < x) for x in X]\n",
    "    plt.plot(X, Y, alpha=0.5, linewidth=3, label=title)\n",
    "plt.xlabel('pvalue')\n",
    "plt.plot([0, 1], [0, 1], 'k')\n",
    "plt.legend(loc=5)\n",
    "plt.show()\n"
   ]
  }
 ],
 "metadata": {
  "kernelspec": {
   "display_name": "base",
   "language": "python",
   "name": "python3"
  },
  "language_info": {
   "codemirror_mode": {
    "name": "ipython",
    "version": 3
   },
   "file_extension": ".py",
   "mimetype": "text/x-python",
   "name": "python",
   "nbconvert_exporter": "python",
   "pygments_lexer": "ipython3",
   "version": "3.9.13"
  }
 },
 "nbformat": 4,
 "nbformat_minor": 5
}
