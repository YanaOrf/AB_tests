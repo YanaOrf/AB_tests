{
 "cells": [
  {
   "cell_type": "code",
   "execution_count": null,
   "metadata": {},
   "outputs": [],
   "source": []
  }
 ],
 "metadata": {
  "kernelspec": {
   "display_name": "Python 3.8.16 ('Python_3_8')",
   "language": "python",
   "name": "python3"
  },
  "language_info": {
   "name": "python",
   "version": "3.8.16"
  },
  "orig_nbformat": 4,
  "vscode": {
   "interpreter": {
    "hash": "5eca9d9a01420d96675fd81255ba5146a71d45a2a59dd821f8b94bf78f62b77b"
   }
  }
 },
 "nbformat": 4,
 "nbformat_minor": 2
}
